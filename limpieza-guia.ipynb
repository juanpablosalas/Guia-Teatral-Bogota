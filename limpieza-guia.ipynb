{
 "cells": [
  {
   "cell_type": "code",
   "execution_count": 1,
   "metadata": {},
   "outputs": [
    {
     "data": {
      "text/plain": [
       "'es_ES'"
      ]
     },
     "execution_count": 1,
     "metadata": {},
     "output_type": "execute_result"
    }
   ],
   "source": [
    "import numpy as np\n",
    "import pandas as pd\n",
    "import requests\n",
    "import re\n",
    "import datetime\n",
    "\n",
    "import locale\n",
    "locale.setlocale(locale.LC_TIME, \"es_ES\") #"
   ]
  },
  {
   "cell_type": "code",
   "execution_count": 2,
   "metadata": {},
   "outputs": [],
   "source": [
    "fecha = \"18-11-2022\"\n",
    "fecha_anterior = \"09-10-2022\"\n",
    "columns = ['Subject','Start Date', 'Start Time', 'End Date','End Time','All Day Event', 'Description','Location','Private']\n",
    "# 05/30/20\n",
    "# 10:00 AM"
   ]
  },
  {
   "cell_type": "markdown",
   "metadata": {},
   "source": [
    "# Cargar Datos"
   ]
  },
  {
   "cell_type": "code",
   "execution_count": 3,
   "metadata": {},
   "outputs": [],
   "source": [
    "guia = pd.read_csv(\"../Guia-Teatral-Bogota/data/guia_teatral({}).csv\".format(fecha))"
   ]
  },
  {
   "cell_type": "code",
   "execution_count": 4,
   "metadata": {},
   "outputs": [
    {
     "data": {
      "text/html": [
       "<div>\n",
       "<style scoped>\n",
       "    .dataframe tbody tr th:only-of-type {\n",
       "        vertical-align: middle;\n",
       "    }\n",
       "\n",
       "    .dataframe tbody tr th {\n",
       "        vertical-align: top;\n",
       "    }\n",
       "\n",
       "    .dataframe thead th {\n",
       "        text-align: right;\n",
       "    }\n",
       "</style>\n",
       "<table border=\"1\" class=\"dataframe\">\n",
       "  <thead>\n",
       "    <tr style=\"text-align: right;\">\n",
       "      <th></th>\n",
       "      <th>tipo</th>\n",
       "      <th>titulo</th>\n",
       "      <th>fecha</th>\n",
       "      <th>url</th>\n",
       "      <th>duracion</th>\n",
       "      <th>preciomin</th>\n",
       "      <th>preciomax</th>\n",
       "      <th>lugar</th>\n",
       "      <th>desc</th>\n",
       "    </tr>\n",
       "  </thead>\n",
       "  <tbody>\n",
       "    <tr>\n",
       "      <th>218</th>\n",
       "      <td>Improvisación ​</td>\n",
       "      <td>Volver</td>\n",
       "      <td>2022-10-27 20:00</td>\n",
       "      <td>https://www.lamalditavanidadteatro.com/volver</td>\n",
       "      <td>1.00</td>\n",
       "      <td>38000.0</td>\n",
       "      <td>NaN</td>\n",
       "      <td>La Maldita Vanidad</td>\n",
       "      <td>El escenario nos reúne con la intención de VO...</td>\n",
       "    </tr>\n",
       "    <tr>\n",
       "      <th>219</th>\n",
       "      <td>Improvisación ​</td>\n",
       "      <td>Volver</td>\n",
       "      <td>2022-10-28 20:00</td>\n",
       "      <td>https://www.lamalditavanidadteatro.com/volver</td>\n",
       "      <td>1.00</td>\n",
       "      <td>38000.0</td>\n",
       "      <td>NaN</td>\n",
       "      <td>La Maldita Vanidad</td>\n",
       "      <td>El escenario nos reúne con la intención de VO...</td>\n",
       "    </tr>\n",
       "    <tr>\n",
       "      <th>220</th>\n",
       "      <td>Improvisación ​</td>\n",
       "      <td>Volver</td>\n",
       "      <td>2022-10-29 20:00</td>\n",
       "      <td>https://www.lamalditavanidadteatro.com/volver</td>\n",
       "      <td>1.00</td>\n",
       "      <td>38000.0</td>\n",
       "      <td>NaN</td>\n",
       "      <td>La Maldita Vanidad</td>\n",
       "      <td>El escenario nos reúne con la intención de VO...</td>\n",
       "    </tr>\n",
       "    <tr>\n",
       "      <th>230</th>\n",
       "      <td>Improvisación ​</td>\n",
       "      <td>Volver</td>\n",
       "      <td>2022-10-30 18:30</td>\n",
       "      <td>https://www.lamalditavanidadteatro.com/volver</td>\n",
       "      <td>1.00</td>\n",
       "      <td>38000.0</td>\n",
       "      <td>NaN</td>\n",
       "      <td>La Maldita Vanidad</td>\n",
       "      <td>El escenario nos reúne con la intención de VO...</td>\n",
       "    </tr>\n",
       "    <tr>\n",
       "      <th>221</th>\n",
       "      <td>Improvisación ​</td>\n",
       "      <td>Volver</td>\n",
       "      <td>2022-11-03 20:00</td>\n",
       "      <td>https://www.lamalditavanidadteatro.com/volver</td>\n",
       "      <td>1.00</td>\n",
       "      <td>38000.0</td>\n",
       "      <td>NaN</td>\n",
       "      <td>La Maldita Vanidad</td>\n",
       "      <td>El escenario nos reúne con la intención de VO...</td>\n",
       "    </tr>\n",
       "    <tr>\n",
       "      <th>...</th>\n",
       "      <td>...</td>\n",
       "      <td>...</td>\n",
       "      <td>...</td>\n",
       "      <td>...</td>\n",
       "      <td>...</td>\n",
       "      <td>...</td>\n",
       "      <td>...</td>\n",
       "      <td>...</td>\n",
       "      <td>...</td>\n",
       "    </tr>\n",
       "    <tr>\n",
       "      <th>168</th>\n",
       "      <td>Teatro</td>\n",
       "      <td>XXXV Festival FAICP</td>\n",
       "      <td>2023-12-16 20:00</td>\n",
       "      <td>https://www.teatromayor.org/es/evento/teatro/x...</td>\n",
       "      <td>1.25</td>\n",
       "      <td>NaN</td>\n",
       "      <td>NaN</td>\n",
       "      <td>Teatro Estudio</td>\n",
       "      <td>En 2023 el Festival Artístico Internacional In...</td>\n",
       "    </tr>\n",
       "    <tr>\n",
       "      <th>169</th>\n",
       "      <td>Música</td>\n",
       "      <td>Orquesta Filarmónica de Bogotá – Director asis...</td>\n",
       "      <td>2023-12-17 11:00</td>\n",
       "      <td>https://www.teatromayor.org/es/evento/musica/o...</td>\n",
       "      <td>1.25</td>\n",
       "      <td>80000.0</td>\n",
       "      <td>80000.0</td>\n",
       "      <td>Teatro Mayor Julio Mario Santo Domingo</td>\n",
       "      <td>Como ya es tradición en el Teatro Mayor Julio ...</td>\n",
       "    </tr>\n",
       "    <tr>\n",
       "      <th>170</th>\n",
       "      <td>Música</td>\n",
       "      <td>Orquesta Filarmónica de Bogotá – Director asis...</td>\n",
       "      <td>2023-12-18 20:00</td>\n",
       "      <td>https://www.teatromayor.org/es/evento/musica/o...</td>\n",
       "      <td>1.25</td>\n",
       "      <td>80000.0</td>\n",
       "      <td>80000.0</td>\n",
       "      <td>Teatro Mayor Julio Mario Santo Domingo</td>\n",
       "      <td>Como ya es tradición en el Teatro Mayor Julio ...</td>\n",
       "    </tr>\n",
       "    <tr>\n",
       "      <th>171</th>\n",
       "      <td>Música</td>\n",
       "      <td>Orquesta Filarmónica de Bogotá – Director asis...</td>\n",
       "      <td>2023-12-19 20:00</td>\n",
       "      <td>https://www.teatromayor.org/es/evento/musica/o...</td>\n",
       "      <td>1.25</td>\n",
       "      <td>80000.0</td>\n",
       "      <td>80000.0</td>\n",
       "      <td>Teatro Mayor Julio Mario Santo Domingo</td>\n",
       "      <td>Como ya es tradición en el Teatro Mayor Julio ...</td>\n",
       "    </tr>\n",
       "    <tr>\n",
       "      <th>172</th>\n",
       "      <td>Música</td>\n",
       "      <td>Orquesta Filarmónica de Bogotá – Director asis...</td>\n",
       "      <td>2023-12-20 20:00</td>\n",
       "      <td>https://www.teatromayor.org/es/evento/musica/o...</td>\n",
       "      <td>1.25</td>\n",
       "      <td>80000.0</td>\n",
       "      <td>80000.0</td>\n",
       "      <td>Teatro Mayor Julio Mario Santo Domingo</td>\n",
       "      <td>Como ya es tradición en el Teatro Mayor Julio ...</td>\n",
       "    </tr>\n",
       "  </tbody>\n",
       "</table>\n",
       "<p>284 rows × 9 columns</p>\n",
       "</div>"
      ],
      "text/plain": [
       "                tipo                                             titulo  \\\n",
       "218  Improvisación ​                                             Volver   \n",
       "219  Improvisación ​                                             Volver   \n",
       "220  Improvisación ​                                             Volver   \n",
       "230  Improvisación ​                                             Volver   \n",
       "221  Improvisación ​                                             Volver   \n",
       "..               ...                                                ...   \n",
       "168           Teatro                                XXXV Festival FAICP   \n",
       "169           Música  Orquesta Filarmónica de Bogotá – Director asis...   \n",
       "170           Música  Orquesta Filarmónica de Bogotá – Director asis...   \n",
       "171           Música  Orquesta Filarmónica de Bogotá – Director asis...   \n",
       "172           Música  Orquesta Filarmónica de Bogotá – Director asis...   \n",
       "\n",
       "                fecha                                                url  \\\n",
       "218  2022-10-27 20:00      https://www.lamalditavanidadteatro.com/volver   \n",
       "219  2022-10-28 20:00      https://www.lamalditavanidadteatro.com/volver   \n",
       "220  2022-10-29 20:00      https://www.lamalditavanidadteatro.com/volver   \n",
       "230  2022-10-30 18:30      https://www.lamalditavanidadteatro.com/volver   \n",
       "221  2022-11-03 20:00      https://www.lamalditavanidadteatro.com/volver   \n",
       "..                ...                                                ...   \n",
       "168  2023-12-16 20:00  https://www.teatromayor.org/es/evento/teatro/x...   \n",
       "169  2023-12-17 11:00  https://www.teatromayor.org/es/evento/musica/o...   \n",
       "170  2023-12-18 20:00  https://www.teatromayor.org/es/evento/musica/o...   \n",
       "171  2023-12-19 20:00  https://www.teatromayor.org/es/evento/musica/o...   \n",
       "172  2023-12-20 20:00  https://www.teatromayor.org/es/evento/musica/o...   \n",
       "\n",
       "     duracion  preciomin  preciomax                                   lugar  \\\n",
       "218      1.00    38000.0        NaN                      La Maldita Vanidad   \n",
       "219      1.00    38000.0        NaN                      La Maldita Vanidad   \n",
       "220      1.00    38000.0        NaN                      La Maldita Vanidad   \n",
       "230      1.00    38000.0        NaN                      La Maldita Vanidad   \n",
       "221      1.00    38000.0        NaN                      La Maldita Vanidad   \n",
       "..        ...        ...        ...                                     ...   \n",
       "168      1.25        NaN        NaN                          Teatro Estudio   \n",
       "169      1.25    80000.0    80000.0  Teatro Mayor Julio Mario Santo Domingo   \n",
       "170      1.25    80000.0    80000.0  Teatro Mayor Julio Mario Santo Domingo   \n",
       "171      1.25    80000.0    80000.0  Teatro Mayor Julio Mario Santo Domingo   \n",
       "172      1.25    80000.0    80000.0  Teatro Mayor Julio Mario Santo Domingo   \n",
       "\n",
       "                                                  desc  \n",
       "218   El escenario nos reúne con la intención de VO...  \n",
       "219   El escenario nos reúne con la intención de VO...  \n",
       "220   El escenario nos reúne con la intención de VO...  \n",
       "230   El escenario nos reúne con la intención de VO...  \n",
       "221   El escenario nos reúne con la intención de VO...  \n",
       "..                                                 ...  \n",
       "168  En 2023 el Festival Artístico Internacional In...  \n",
       "169  Como ya es tradición en el Teatro Mayor Julio ...  \n",
       "170  Como ya es tradición en el Teatro Mayor Julio ...  \n",
       "171  Como ya es tradición en el Teatro Mayor Julio ...  \n",
       "172  Como ya es tradición en el Teatro Mayor Julio ...  \n",
       "\n",
       "[284 rows x 9 columns]"
      ]
     },
     "execution_count": 4,
     "metadata": {},
     "output_type": "execute_result"
    }
   ],
   "source": [
    "guia.sort_values(by='fecha')"
   ]
  },
  {
   "cell_type": "markdown",
   "metadata": {},
   "source": [
    "# Limpieza"
   ]
  },
  {
   "cell_type": "markdown",
   "metadata": {},
   "source": [
    "### Tipo"
   ]
  },
  {
   "cell_type": "code",
   "execution_count": 5,
   "metadata": {},
   "outputs": [],
   "source": [
    "guia.tipo = guia.tipo.str.replace(u'\\u200b','').str.strip()"
   ]
  },
  {
   "cell_type": "markdown",
   "metadata": {},
   "source": [
    "Categorías:\n",
    "\n",
    "- Teatro\n",
    "- Danza\n",
    "- Teatro Musical/Multidisciplinar\n",
    "- Ópera/Música\n",
    "- Improvisación"
   ]
  },
  {
   "cell_type": "code",
   "execution_count": 8,
   "metadata": {},
   "outputs": [
    {
     "data": {
      "text/plain": [
       "array(['Música', 'Danza', 'Teatro Musical', 'Teatro', 'Multidisciplinar',\n",
       "       nan, 'Improvisación'], dtype=object)"
      ]
     },
     "execution_count": 8,
     "metadata": {},
     "output_type": "execute_result"
    }
   ],
   "source": [
    "guia.tipo.unique()"
   ]
  },
  {
   "cell_type": "code",
   "execution_count": 7,
   "metadata": {},
   "outputs": [],
   "source": [
    "mapa_tipos = {\"Comedia\":\"Teatro\",\"Stand Up Comedy\":\"Teatro\",\"Drama\":\"Teatro\",\"Autoficción / Teatro documental\":\"Teatro\",\\\n",
    "    \"Todos Los Eventos\":\"Música\",\"Conciertos\":\"Música\",\"Alquileres\":\"Música\", \"Festivales\":\"Música\",\\\n",
    "        \"Ballet\":\"Danza\",\\\n",
    "            \"Familia\":\"Teatro Musical\",\"Circo\":\"Teatro Musical\"}\n",
    "\n",
    "guia.tipo = guia.tipo.apply(lambda t: mapa_tipos[t] if t in mapa_tipos else t)"
   ]
  },
  {
   "cell_type": "code",
   "execution_count": 11,
   "metadata": {},
   "outputs": [],
   "source": [
    "guia.loc[guia.tipo.isna(),'tipo'] = guia[guia.tipo.isna()]['titulo'].str.lower().apply(lambda t: \"Música\" if \\\n",
    "    (\"concierto\" in t or \"sinfonía\" in t or \"gira\" in t or \"puerto candelaria\" in t or \"música\" in t or \"ópera\" in t or \"orquesta\" in t) else \\\n",
    "        (\"Danza\" if (\"ballet\" in t or \"romeo y julieta\" in t or \"danza\" in t or \"milonga\" in t) else \\\n",
    "            (\"Teatro Musical\" if (\"familia\" in t or \"camilo\" in t or \"guadalupe años\" in t or \"milonga\" in t or \"plancha\" in t or \"cueva del olvido\" in t or \"rosa elvira\" in t) else \"Teatro\")))"
   ]
  },
  {
   "cell_type": "markdown",
   "metadata": {},
   "source": [
    "### Duración"
   ]
  },
  {
   "cell_type": "code",
   "execution_count": 15,
   "metadata": {},
   "outputs": [],
   "source": [
    "guia.loc[guia.url.str.contains('pastelazo'),'titulo'] = 'Pastelazo a La Monalisa'"
   ]
  },
  {
   "cell_type": "code",
   "execution_count": 16,
   "metadata": {},
   "outputs": [],
   "source": [
    "guia.loc[guia.duracion.isna(),'duracion'] = guia['duracion'].mean()\n",
    "guia[\"duracion\"] = guia[\"duracion\"].apply(lambda d: round(d,1))"
   ]
  },
  {
   "cell_type": "code",
   "execution_count": 17,
   "metadata": {},
   "outputs": [
    {
     "data": {
      "text/html": [
       "<div>\n",
       "<style scoped>\n",
       "    .dataframe tbody tr th:only-of-type {\n",
       "        vertical-align: middle;\n",
       "    }\n",
       "\n",
       "    .dataframe tbody tr th {\n",
       "        vertical-align: top;\n",
       "    }\n",
       "\n",
       "    .dataframe thead th {\n",
       "        text-align: right;\n",
       "    }\n",
       "</style>\n",
       "<table border=\"1\" class=\"dataframe\">\n",
       "  <thead>\n",
       "    <tr style=\"text-align: right;\">\n",
       "      <th></th>\n",
       "      <th>tipo</th>\n",
       "      <th>titulo</th>\n",
       "      <th>fecha</th>\n",
       "      <th>url</th>\n",
       "      <th>duracion</th>\n",
       "      <th>preciomin</th>\n",
       "      <th>preciomax</th>\n",
       "      <th>lugar</th>\n",
       "      <th>desc</th>\n",
       "    </tr>\n",
       "  </thead>\n",
       "  <tbody>\n",
       "    <tr>\n",
       "      <th>218</th>\n",
       "      <td>Improvisación</td>\n",
       "      <td>Volver</td>\n",
       "      <td>2022-10-27 20:00</td>\n",
       "      <td>https://www.lamalditavanidadteatro.com/volver</td>\n",
       "      <td>1.0</td>\n",
       "      <td>38000.0</td>\n",
       "      <td>NaN</td>\n",
       "      <td>La Maldita Vanidad</td>\n",
       "      <td>El escenario nos reúne con la intención de VO...</td>\n",
       "    </tr>\n",
       "    <tr>\n",
       "      <th>219</th>\n",
       "      <td>Improvisación</td>\n",
       "      <td>Volver</td>\n",
       "      <td>2022-10-28 20:00</td>\n",
       "      <td>https://www.lamalditavanidadteatro.com/volver</td>\n",
       "      <td>1.0</td>\n",
       "      <td>38000.0</td>\n",
       "      <td>NaN</td>\n",
       "      <td>La Maldita Vanidad</td>\n",
       "      <td>El escenario nos reúne con la intención de VO...</td>\n",
       "    </tr>\n",
       "    <tr>\n",
       "      <th>220</th>\n",
       "      <td>Improvisación</td>\n",
       "      <td>Volver</td>\n",
       "      <td>2022-10-29 20:00</td>\n",
       "      <td>https://www.lamalditavanidadteatro.com/volver</td>\n",
       "      <td>1.0</td>\n",
       "      <td>38000.0</td>\n",
       "      <td>NaN</td>\n",
       "      <td>La Maldita Vanidad</td>\n",
       "      <td>El escenario nos reúne con la intención de VO...</td>\n",
       "    </tr>\n",
       "    <tr>\n",
       "      <th>230</th>\n",
       "      <td>Improvisación</td>\n",
       "      <td>Volver</td>\n",
       "      <td>2022-10-30 18:30</td>\n",
       "      <td>https://www.lamalditavanidadteatro.com/volver</td>\n",
       "      <td>1.0</td>\n",
       "      <td>38000.0</td>\n",
       "      <td>NaN</td>\n",
       "      <td>La Maldita Vanidad</td>\n",
       "      <td>El escenario nos reúne con la intención de VO...</td>\n",
       "    </tr>\n",
       "    <tr>\n",
       "      <th>221</th>\n",
       "      <td>Improvisación</td>\n",
       "      <td>Volver</td>\n",
       "      <td>2022-11-03 20:00</td>\n",
       "      <td>https://www.lamalditavanidadteatro.com/volver</td>\n",
       "      <td>1.0</td>\n",
       "      <td>38000.0</td>\n",
       "      <td>NaN</td>\n",
       "      <td>La Maldita Vanidad</td>\n",
       "      <td>El escenario nos reúne con la intención de VO...</td>\n",
       "    </tr>\n",
       "    <tr>\n",
       "      <th>...</th>\n",
       "      <td>...</td>\n",
       "      <td>...</td>\n",
       "      <td>...</td>\n",
       "      <td>...</td>\n",
       "      <td>...</td>\n",
       "      <td>...</td>\n",
       "      <td>...</td>\n",
       "      <td>...</td>\n",
       "      <td>...</td>\n",
       "    </tr>\n",
       "    <tr>\n",
       "      <th>168</th>\n",
       "      <td>Teatro</td>\n",
       "      <td>XXXV Festival FAICP</td>\n",
       "      <td>2023-12-16 20:00</td>\n",
       "      <td>https://www.teatromayor.org/es/evento/teatro/x...</td>\n",
       "      <td>1.2</td>\n",
       "      <td>NaN</td>\n",
       "      <td>NaN</td>\n",
       "      <td>Teatro Estudio</td>\n",
       "      <td>En 2023 el Festival Artístico Internacional In...</td>\n",
       "    </tr>\n",
       "    <tr>\n",
       "      <th>169</th>\n",
       "      <td>Música</td>\n",
       "      <td>Orquesta Filarmónica de Bogotá – Director asis...</td>\n",
       "      <td>2023-12-17 11:00</td>\n",
       "      <td>https://www.teatromayor.org/es/evento/musica/o...</td>\n",
       "      <td>1.2</td>\n",
       "      <td>80000.0</td>\n",
       "      <td>80000.0</td>\n",
       "      <td>Teatro Mayor Julio Mario Santo Domingo</td>\n",
       "      <td>Como ya es tradición en el Teatro Mayor Julio ...</td>\n",
       "    </tr>\n",
       "    <tr>\n",
       "      <th>170</th>\n",
       "      <td>Música</td>\n",
       "      <td>Orquesta Filarmónica de Bogotá – Director asis...</td>\n",
       "      <td>2023-12-18 20:00</td>\n",
       "      <td>https://www.teatromayor.org/es/evento/musica/o...</td>\n",
       "      <td>1.2</td>\n",
       "      <td>80000.0</td>\n",
       "      <td>80000.0</td>\n",
       "      <td>Teatro Mayor Julio Mario Santo Domingo</td>\n",
       "      <td>Como ya es tradición en el Teatro Mayor Julio ...</td>\n",
       "    </tr>\n",
       "    <tr>\n",
       "      <th>171</th>\n",
       "      <td>Música</td>\n",
       "      <td>Orquesta Filarmónica de Bogotá – Director asis...</td>\n",
       "      <td>2023-12-19 20:00</td>\n",
       "      <td>https://www.teatromayor.org/es/evento/musica/o...</td>\n",
       "      <td>1.2</td>\n",
       "      <td>80000.0</td>\n",
       "      <td>80000.0</td>\n",
       "      <td>Teatro Mayor Julio Mario Santo Domingo</td>\n",
       "      <td>Como ya es tradición en el Teatro Mayor Julio ...</td>\n",
       "    </tr>\n",
       "    <tr>\n",
       "      <th>172</th>\n",
       "      <td>Música</td>\n",
       "      <td>Orquesta Filarmónica de Bogotá – Director asis...</td>\n",
       "      <td>2023-12-20 20:00</td>\n",
       "      <td>https://www.teatromayor.org/es/evento/musica/o...</td>\n",
       "      <td>1.2</td>\n",
       "      <td>80000.0</td>\n",
       "      <td>80000.0</td>\n",
       "      <td>Teatro Mayor Julio Mario Santo Domingo</td>\n",
       "      <td>Como ya es tradición en el Teatro Mayor Julio ...</td>\n",
       "    </tr>\n",
       "  </tbody>\n",
       "</table>\n",
       "<p>284 rows × 9 columns</p>\n",
       "</div>"
      ],
      "text/plain": [
       "              tipo                                             titulo  \\\n",
       "218  Improvisación                                             Volver   \n",
       "219  Improvisación                                             Volver   \n",
       "220  Improvisación                                             Volver   \n",
       "230  Improvisación                                             Volver   \n",
       "221  Improvisación                                             Volver   \n",
       "..             ...                                                ...   \n",
       "168         Teatro                                XXXV Festival FAICP   \n",
       "169         Música  Orquesta Filarmónica de Bogotá – Director asis...   \n",
       "170         Música  Orquesta Filarmónica de Bogotá – Director asis...   \n",
       "171         Música  Orquesta Filarmónica de Bogotá – Director asis...   \n",
       "172         Música  Orquesta Filarmónica de Bogotá – Director asis...   \n",
       "\n",
       "                fecha                                                url  \\\n",
       "218  2022-10-27 20:00      https://www.lamalditavanidadteatro.com/volver   \n",
       "219  2022-10-28 20:00      https://www.lamalditavanidadteatro.com/volver   \n",
       "220  2022-10-29 20:00      https://www.lamalditavanidadteatro.com/volver   \n",
       "230  2022-10-30 18:30      https://www.lamalditavanidadteatro.com/volver   \n",
       "221  2022-11-03 20:00      https://www.lamalditavanidadteatro.com/volver   \n",
       "..                ...                                                ...   \n",
       "168  2023-12-16 20:00  https://www.teatromayor.org/es/evento/teatro/x...   \n",
       "169  2023-12-17 11:00  https://www.teatromayor.org/es/evento/musica/o...   \n",
       "170  2023-12-18 20:00  https://www.teatromayor.org/es/evento/musica/o...   \n",
       "171  2023-12-19 20:00  https://www.teatromayor.org/es/evento/musica/o...   \n",
       "172  2023-12-20 20:00  https://www.teatromayor.org/es/evento/musica/o...   \n",
       "\n",
       "     duracion  preciomin  preciomax                                   lugar  \\\n",
       "218       1.0    38000.0        NaN                      La Maldita Vanidad   \n",
       "219       1.0    38000.0        NaN                      La Maldita Vanidad   \n",
       "220       1.0    38000.0        NaN                      La Maldita Vanidad   \n",
       "230       1.0    38000.0        NaN                      La Maldita Vanidad   \n",
       "221       1.0    38000.0        NaN                      La Maldita Vanidad   \n",
       "..        ...        ...        ...                                     ...   \n",
       "168       1.2        NaN        NaN                          Teatro Estudio   \n",
       "169       1.2    80000.0    80000.0  Teatro Mayor Julio Mario Santo Domingo   \n",
       "170       1.2    80000.0    80000.0  Teatro Mayor Julio Mario Santo Domingo   \n",
       "171       1.2    80000.0    80000.0  Teatro Mayor Julio Mario Santo Domingo   \n",
       "172       1.2    80000.0    80000.0  Teatro Mayor Julio Mario Santo Domingo   \n",
       "\n",
       "                                                  desc  \n",
       "218   El escenario nos reúne con la intención de VO...  \n",
       "219   El escenario nos reúne con la intención de VO...  \n",
       "220   El escenario nos reúne con la intención de VO...  \n",
       "230   El escenario nos reúne con la intención de VO...  \n",
       "221   El escenario nos reúne con la intención de VO...  \n",
       "..                                                 ...  \n",
       "168  En 2023 el Festival Artístico Internacional In...  \n",
       "169  Como ya es tradición en el Teatro Mayor Julio ...  \n",
       "170  Como ya es tradición en el Teatro Mayor Julio ...  \n",
       "171  Como ya es tradición en el Teatro Mayor Julio ...  \n",
       "172  Como ya es tradición en el Teatro Mayor Julio ...  \n",
       "\n",
       "[284 rows x 9 columns]"
      ]
     },
     "execution_count": 17,
     "metadata": {},
     "output_type": "execute_result"
    }
   ],
   "source": [
    "guia = guia.dropna(subset='fecha')\n",
    "guia = guia.reset_index(drop=True)\n",
    "guia.sort_values(by='fecha')"
   ]
  },
  {
   "cell_type": "markdown",
   "metadata": {},
   "source": [
    "## Lugar"
   ]
  },
  {
   "cell_type": "code",
   "execution_count": 20,
   "metadata": {},
   "outputs": [],
   "source": [
    "guia.loc[guia.lugar.str.lower().str.contains('julio mario santo domingo'),'lugar'] = \"Teatro Mayor Julio Mario Santo Domingo\"\n",
    "guia.loc[guia.lugar.str.lower().str.contains('teatro estudio'),'lugar'] = \"Teatro Estudio Julio Mario Santo Domingo\"\n",
    "guia.loc[guia.lugar.str.lower().str.contains('gaitán'),'lugar'] = \"Teatro Jorge Eliecer Gaitán\"\n",
    "guia.loc[guia.lugar.str.lower().str.contains('ensueño'),'lugar'] = \"Teatro El Ensueño\"\n",
    "guia.loc[guia.lugar.str.lower().str.contains('petra'),'lugar'] = \"Teatro Petra\"\n",
    "guia.loc[guia.lugar.str.lower().str.contains('castellana'),'lugar'] = \"Teatro Nacional La Castellana\"\n",
    "guia.loc[guia.lugar.str.lower().str.contains('villa mayor'),'lugar'] = \"Teatro Villa Mayor\"\n",
    "guia.loc[guia.lugar.str.lower().str.contains('libre de chapinero'),'lugar'] = \"Teatro Libre Chapinero\"\n",
    "guia.loc[guia.lugar.str.lower().str.contains('cinemateca'),'lugar'] = \"Cinemateca de Bogotá\"\n",
    "guia.loc[guia.lugar.str.lower().str.contains('casa del teatro nacional'),'lugar'] = \"La Casa del Teatro Nacional\"\n"
   ]
  },
  {
   "cell_type": "code",
   "execution_count": 21,
   "metadata": {},
   "outputs": [],
   "source": [
    "guia[\"lugar\"] = guia[\"lugar\"].apply(lambda x: x.split('-')[0].strip().split('Calle')[0].strip().split('Carrera')[0].strip().split('Cra')[0].strip().split('calle')[0].strip().split('Cl')[0].strip())"
   ]
  },
  {
   "cell_type": "markdown",
   "metadata": {},
   "source": [
    "# Exportar"
   ]
  },
  {
   "cell_type": "code",
   "execution_count": 139,
   "metadata": {},
   "outputs": [],
   "source": [
    "export = guia.copy()\n",
    "export[\"Subject\"] = export[\"titulo\"]\n",
    "export[\"fecha\"] = export[\"fecha\"].apply(lambda f: f.replace(\":00:00\",\":00\").replace(\":30:00\",\":30\"))"
   ]
  },
  {
   "cell_type": "code",
   "execution_count": 188,
   "metadata": {},
   "outputs": [],
   "source": [
    "export['Start Date'] = export[\"fecha\"].apply(lambda z: datetime.datetime.strptime(z,'%Y-%m-%d %H:%M').strftime('%m/%d/%Y'))\n",
    "export['Start Time'] = export[\"fecha\"].apply(lambda z: datetime.datetime.strptime(z,'%Y-%m-%d %H:%M').strftime('%I:%M %p'))\n",
    "export['End Date'] = export[\"fecha\"].apply(lambda z: datetime.datetime.strptime(z,'%Y-%m-%d %H:%M').strftime('%m/%d/%Y'))\n",
    "export['End Time'] = export.apply(lambda f: (datetime.datetime.strptime(f[\"Start Time\"],'%I:%M %p')+datetime.timedelta(hours=f[\"duracion\"])).strftime('%I:%M %p'), axis=1)"
   ]
  },
  {
   "cell_type": "code",
   "execution_count": 195,
   "metadata": {},
   "outputs": [],
   "source": [
    "export['Location'] = export['lugar']\n",
    "export['Description'] = export['tipo'] +'\\n'+export['preciomin'].apply(lambda p: \"{}k\".format(int(p/1000)) if p>0 else \"0\")+'\\n'+export['desc'].apply(lambda d: str(d).replace('\\n',''))+'\\n'+export['url']"
   ]
  },
  {
   "cell_type": "code",
   "execution_count": 196,
   "metadata": {},
   "outputs": [
    {
     "data": {
      "text/plain": [
       "['Subject',\n",
       " 'Start Date',\n",
       " 'Start Time',\n",
       " 'End Date',\n",
       " 'End Time',\n",
       " 'All Day Event',\n",
       " 'Description',\n",
       " 'Location',\n",
       " 'Private']"
      ]
     },
     "execution_count": 196,
     "metadata": {},
     "output_type": "execute_result"
    }
   ],
   "source": [
    "columns"
   ]
  },
  {
   "cell_type": "code",
   "execution_count": 197,
   "metadata": {},
   "outputs": [],
   "source": [
    "export['All Day Event'] = False\n",
    "export['Private'] = False"
   ]
  },
  {
   "cell_type": "code",
   "execution_count": 198,
   "metadata": {},
   "outputs": [
    {
     "data": {
      "text/plain": [
       "array(['Música', 'Teatro', 'Danza', 'Teatro Musical', 'Improvisación',\n",
       "       'Festival'], dtype=object)"
      ]
     },
     "execution_count": 198,
     "metadata": {},
     "output_type": "execute_result"
    }
   ],
   "source": [
    "export.tipo.unique()"
   ]
  },
  {
   "cell_type": "code",
   "execution_count": 202,
   "metadata": {},
   "outputs": [],
   "source": [
    "export[export.tipo==\"Festival\"][columns].to_csv(\"./export/festival{}.csv\".format(fecha),index=False)"
   ]
  },
  {
   "cell_type": "code",
   "execution_count": null,
   "metadata": {},
   "outputs": [],
   "source": []
  }
 ],
 "metadata": {
  "kernelspec": {
   "display_name": "Python 3.9.12 ('base')",
   "language": "python",
   "name": "python3"
  },
  "language_info": {
   "codemirror_mode": {
    "name": "ipython",
    "version": 3
   },
   "file_extension": ".py",
   "mimetype": "text/x-python",
   "name": "python",
   "nbconvert_exporter": "python",
   "pygments_lexer": "ipython3",
   "version": "3.9.12"
  },
  "orig_nbformat": 4,
  "vscode": {
   "interpreter": {
    "hash": "603c7126a362df54dbdb63464ffa171b698e5719d09ebf425de5c7b485ef52fd"
   }
  }
 },
 "nbformat": 4,
 "nbformat_minor": 2
}
