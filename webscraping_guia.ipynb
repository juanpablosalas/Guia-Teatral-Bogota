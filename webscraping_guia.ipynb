{
 "cells": [
  {
   "cell_type": "code",
   "execution_count": 1,
   "metadata": {},
   "outputs": [
    {
     "data": {
      "text/plain": [
       "'es_ES'"
      ]
     },
     "execution_count": 1,
     "metadata": {},
     "output_type": "execute_result"
    }
   ],
   "source": [
    "import numpy as np\n",
    "import pandas as pd\n",
    "import requests\n",
    "import re\n",
    "import datetime\n",
    "\n",
    "import locale\n",
    "locale.setlocale(locale.LC_TIME, \"es_ES\") #"
   ]
  },
  {
   "cell_type": "code",
   "execution_count": 2,
   "metadata": {},
   "outputs": [],
   "source": [
    "import warnings\n",
    "warnings.simplefilter(action='ignore', category=FutureWarning)"
   ]
  },
  {
   "cell_type": "code",
   "execution_count": 3,
   "metadata": {},
   "outputs": [],
   "source": [
    "hoy = \"18-11-2022\"\n",
    "columns = ['Subject','Start Date', 'Start Time', 'End Date','All Day Event', 'Description','Location','Private']\n",
    "# 05/30/20\n",
    "# 10:00 AM"
   ]
  },
  {
   "cell_type": "markdown",
   "metadata": {},
   "source": [
    "# Funciones WebScraping"
   ]
  },
  {
   "cell_type": "code",
   "execution_count": 4,
   "metadata": {},
   "outputs": [],
   "source": [
    "from selenium import webdriver\n",
    "from selenium.common.exceptions import NoSuchElementException\n"
   ]
  },
  {
   "cell_type": "markdown",
   "metadata": {},
   "source": [
    "**Teatro Mayor**\n",
    "\n",
    "https://www.teatromayor.org/es/temporada/2022"
   ]
  },
  {
   "cell_type": "code",
   "execution_count": 5,
   "metadata": {},
   "outputs": [],
   "source": [
    "def tmayor_info(driver,url):\n",
    "    driver.get(url)\n",
    "\n",
    "    horas = int(driver.find_element('xpath','//div[@class=\"duration\"]//div[@class=\"hrs\"]//span[@class=\"fact h\"]').text)\n",
    "    minutos = int(driver.find_element('xpath','//div[@class=\"duration\"]//div[@class=\"min\"]//span[@class=\"fact m\"]').text)\n",
    "    dur_horas = horas+minutos/60\n",
    "    boletas = driver.find_elements('xpath','//div[@class=\"content\"]//div[@class=\"table\"]//div[@class=\"row\"]//div[@class=\"col\"]')\n",
    "    desc = driver.find_element('xpath','//div[@class=\"view-content\"]').text.strip()\n",
    "    try:\n",
    "        precios = [int(re.findall('^\\$(\\d*).',boletas[i].text)[0])*1000 for i in range(2,6,3)]\n",
    "        precio_min, precio_max = min(precios), max(precios)\n",
    "    except:\n",
    "        precio_min, precio_max = np.nan, np.nan\n",
    "\n",
    "    lugar = driver.find_element('xpath','//div[@class=\"location\"]//h4[@class=\"stage\"]').text\n",
    "    \n",
    "\n",
    "    return dur_horas, precio_min, precio_max, lugar, desc"
   ]
  },
  {
   "cell_type": "code",
   "execution_count": 6,
   "metadata": {},
   "outputs": [],
   "source": [
    "def webscraping_teatromayor(año):\n",
    "    driver = webdriver.Safari()\n",
    "    caracteristicas = {'tipo-text':'//div[@class=\"views-field views-field-field-event-field-section-name\"]',\\\n",
    "    'titulo-text':'//div[@class=\"views-field views-field-field-event-title\"]',\n",
    "    'fecha-content':'//div[@class=\"views-field views-field-field-date-1\"]//span[@class=\"field-content\"]//span[@class=\"date-display-single\"]',\n",
    "    'url-href':'//div[@class=\"views-field views-field-field-event-title\"]//div[@class=\"field-content\"]//a'}\n",
    "\n",
    "    driver.get(\"https://www.teatromayor.org/es/temporada/{}\".format(año))\n",
    "\n",
    "    teatro_mayor = pd.DataFrame()\n",
    "    for key in caracteristicas.keys():\n",
    "        elementos = driver.find_elements('xpath',caracteristicas[key])\n",
    "        if key.split('-')[1]=='text':\n",
    "            teatro_mayor[key] = pd.Series([x.text.strip() for x in elementos])\n",
    "        else:\n",
    "            teatro_mayor[key] = pd.Series([x.get_attribute(key.split('-')[1]) for x in elementos])\n",
    "\n",
    "    i=1\n",
    "    while len(driver.find_elements('xpath','//li[@class=\"pager__item\"]//a'))>0:\n",
    "        i=i+1\n",
    "        driver.get(\"https://www.teatromayor.org/es/temporada/{}?page={}\".format(año,i))\n",
    "        teatro_mayor_prov = pd.DataFrame()\n",
    "        for key in caracteristicas.keys():\n",
    "            elementos = driver.find_elements('xpath',caracteristicas[key])\n",
    "            if key.split('-')[1]=='text':\n",
    "                teatro_mayor_prov[key] = pd.Series([x.text.strip() for x in elementos])\n",
    "            else:\n",
    "                teatro_mayor_prov[key] = pd.Series([x.get_attribute(key.split('-')[1]) for x in elementos])\n",
    "        teatro_mayor = pd.concat([teatro_mayor,teatro_mayor_prov],ignore_index=True)\n",
    "\n",
    "    \n",
    "    teatro_mayor['extrainf'] = teatro_mayor['url-href'].apply(lambda url: tmayor_info(driver,url))\n",
    "    teatro_mayor['duracion-func'] = teatro_mayor['extrainf'].apply(lambda x: x[0])\n",
    "    teatro_mayor['preciomin-func'] = teatro_mayor['extrainf'].apply(lambda x: x[1])\n",
    "    teatro_mayor['preciomax-func'] = teatro_mayor['extrainf'].apply(lambda x: x[2])\n",
    "    teatro_mayor['lugar-func'] = teatro_mayor['extrainf'].apply(lambda x: x[3])\n",
    "    teatro_mayor['desc-func'] = teatro_mayor['extrainf'].apply(lambda x: x[4])\n",
    "    teatro_mayor.drop(columns='extrainf',inplace=True)\n",
    "\n",
    "    #Limpieza\n",
    "    teatro_mayor['fecha-content'] = teatro_mayor['fecha-content'].apply(lambda f: f.replace(\"T\",\" \").replace(\":00-05:00\",\"\"))\n",
    "    driver.quit()\n",
    "\n",
    "    teatro_mayor.columns = teatro_mayor.columns.str.split(\"-\").str.get(0)\n",
    "    return teatro_mayor"
   ]
  },
  {
   "cell_type": "markdown",
   "metadata": {},
   "source": [
    "**Atrapalo**\n",
    "\n",
    "https://www.atrapalo.com.co/entradas/teatro-y-danza/"
   ]
  },
  {
   "cell_type": "code",
   "execution_count": 7,
   "metadata": {},
   "outputs": [],
   "source": [
    "def atrapalo_info(driver, url):\n",
    "    driver.get(url)\n",
    "\n",
    "    fechas = [fecha_raw.get_attribute('data-date').strip()+\" \"+hora_raw.text.strip().replace(\"h\",\"\") \\\n",
    "        for fecha_raw,hora_raw in zip(driver.find_elements('xpath','//div[@class=\"row js-session-group clearl\"]'),\\\n",
    "            driver.find_elements('xpath','//span[@class=\"time-session\"]'))]\n",
    "    \n",
    "    desc = driver.find_element('xpath','//div[@class=\"detail-info-box__description container-descripcion app-container-description\"]').text.strip()\n",
    "\n",
    "    return fechas, desc"
   ]
  },
  {
   "cell_type": "code",
   "execution_count": 8,
   "metadata": {},
   "outputs": [],
   "source": [
    "def webscraping_atrapalo():\n",
    "    driver = webdriver.Safari()\n",
    "    driver.get(\"https://www.atrapalo.com.co/entradas/teatro-y-danza/\")\n",
    "\n",
    "    caracteristicas = {'tipo-text':'//div[@class=\"item-data event-data\"]//p[@class=\"info\"]//span[@class=\"type large-loc\"]',\\\n",
    "    'titulo-title':'//div[@class=\"item-data event-data\"]//h2[@class=\"clear nombre\"]//a',\n",
    "    'url-href':'//div[@class=\"item-data event-data\"]//h2[@class=\"clear nombre\"]//a',\n",
    "    'lugar-title':'//div[@class=\"item-data event-data\"]//p[@class=\"info\"]//span//a[@class=\"locality GATrackEvent_ubicacion hide-for-small-only\"]',\n",
    "    'duracion-text':'//div[@class=\"event-info-container\"]//p[@class=\"info\"][2]',\n",
    "    'preciomin-text':'//div[@class=\"price-room \"]//span[@class=\"value \"]'}\n",
    "\n",
    "    atrapalo = pd.DataFrame()\n",
    "    for key in caracteristicas.keys():\n",
    "        elementos = driver.find_elements('xpath',caracteristicas[key])\n",
    "        if key.split('-')[1]=='text':\n",
    "            atrapalo[key] = pd.Series([x.text.strip() for x in elementos])\n",
    "        else:\n",
    "            atrapalo[key] = pd.Series([x.get_attribute(key.split('-')[1]) for x in elementos])\n",
    "\n",
    "    dejar_lugares = ['Elteatro.co','Casa E Borrero, Sala Arlequín','Teatro La Mama','Auditorio Sonia Fajardo Forero']\n",
    "\n",
    "    atrapalo = atrapalo[atrapalo['lugar-title'].isin(dejar_lugares)].reset_index(drop=True)\n",
    "\n",
    "    # Limpieza\n",
    "    regex_hora = '(\\d+) hora[s]?|(\\d+)[ ]?[H,h]'\n",
    "    regex_minuto = '(\\d+)[ ]?[min,Min,MIN][a-z]*|\\:(\\d+)'\n",
    "    horas =atrapalo['duracion-text'].apply(lambda durt: int([h[0] if h[0]!='' else h[1] for h in re.findall(regex_hora,str(durt))][0]) if len([h[0] if h[0]!='' else h[1] for h in re.findall(regex_hora,str(durt))])>0 else 0)\n",
    "    minutos =atrapalo['duracion-text'].apply(lambda durt: int([h[0] if h[0]!='' else h[1] for h in re.findall(regex_minuto,str(durt))][0]) if len([h[0] if h[0]!='' else h[1] for h in re.findall(regex_minuto,str(durt))])>0 else 0)\n",
    "    atrapalo['duracion-text'] = horas+minutos/60\n",
    "    atrapalo['preciomin-text']=atrapalo['preciomin-text'].apply(lambda pret: int(re.findall('\\$ (\\d+).',pret)[0])*1000 if len(re.findall('\\$ (\\d+).',pret))>0 else np.nan)\n",
    "\n",
    "    extrainfo = atrapalo['url-href'].apply(lambda url: atrapalo_info(driver,url))\n",
    "    atrapalo['fecha-func'] = extrainfo.apply(lambda t: t[0])\n",
    "    atrapalo['desc-func'] = extrainfo.apply(lambda t: t[1])\n",
    "    atrapalo = atrapalo.explode('fecha-func',ignore_index=True)\n",
    "\n",
    "    driver.quit()\n",
    "    atrapalo.columns = atrapalo.columns.str.split(\"-\").str.get(0)\n",
    "    return atrapalo\n",
    "    "
   ]
  },
  {
   "cell_type": "markdown",
   "metadata": {},
   "source": [
    "**Teatro Nacional**\n",
    "\n",
    "https://teatronacional.co/"
   ]
  },
  {
   "cell_type": "code",
   "execution_count": 9,
   "metadata": {},
   "outputs": [],
   "source": [
    "def tnacional_info(driver, url):\n",
    "    driver.get(url)\n",
    "\n",
    "    titulo = driver.find_elements('xpath','//rs-layer')[-2].text.split(' - ')[0].capitalize()\n",
    "    lugar = driver.find_elements('xpath','//h3[@class=\"tbk__title\"]')[0].text.split(' - ')[0]\n",
    "    preciomin = np.nan\n",
    "    desc = driver.find_elements('xpath','//rs-layer')[-3].text.strip()\n",
    "\n",
    "    #desc = \"\"\n",
    "    # for s in driver.find_elements('xpath','//div[contains(@class,\"zn_text_box-light element-scheme--light\")]//span[contains(@style,\"font-family: Lato;\")]'):\n",
    "    # desc = desc+\"\\n\"+s.text.strip()\n",
    "\n",
    "\n",
    "    fechas = []\n",
    "\n",
    "    if len(driver.find_elements('xpath','//button[@class=\"tc_seating_map_button\"]'))>0:\n",
    "        for k in driver.find_elements('xpath','//button[@class=\"tc_seating_map_button\"]'):\n",
    "            dtfrm = re.findall('(\\d{2} \\D{3})',k.text)[0]+' 2022 '+re.findall('(\\d.{4,5}M)',k.text)[0].replace('O','0')\n",
    "            fechas.append(datetime.datetime.strptime(dtfrm,'%d %b %Y %I:%M%p').strftime('%Y-%m-%d %H:%M'))\n",
    "    else:\n",
    "        for k in driver.find_elements('xpath','//div[@class=\"tickera\"]//table[@class=\"event_tickets tickera\"]//tbody//tr[last()][td]'):\n",
    "            dtfrm = re.findall('(\\d{2} \\D{3})',k.text)[0]+' 2022 '+re.findall('(\\d.{4,5}m)',k.text)[0]\n",
    "            fechas.append(datetime.datetime.strptime(dtfrm,'%d %b %Y %I:%M%p').strftime('%Y-%m-%d %H:%M'))\n",
    "        \n",
    "        try:\n",
    "            preciomin = re.findall('\\$(\\d+)',\\\n",
    "            driver.find_elements('xpath','//div[@class=\"tickera\"]//table[@class=\"event_tickets tickera\"]//tbody//tr[last()][td]')[-1].text)[0]\n",
    "        except:\n",
    "            pass\n",
    "\n",
    "    return titulo, lugar, fechas, preciomin, desc\n",
    "    "
   ]
  },
  {
   "cell_type": "code",
   "execution_count": 10,
   "metadata": {},
   "outputs": [],
   "source": [
    "def webscraping_teatronacional():\n",
    "    driver = webdriver.Safari()\n",
    "    driver.get(\"https://teatronacional.co/\")\n",
    "\n",
    "    caracteristicas = {'url-href':'//a[starts-with(@class,\"image-boxes\")][not(@href=\"https://teatronacional.co/\")]'}\n",
    "\n",
    "    teatro_nacional = pd.DataFrame()\n",
    "    for key in caracteristicas.keys():\n",
    "        elementos = driver.find_elements('xpath',caracteristicas[key])\n",
    "        if key.split('-')[1]=='text':\n",
    "            teatro_nacional[key] = pd.Series([x.text.strip() for x in elementos])\n",
    "        else:\n",
    "            teatro_nacional[key] = pd.Series([x.get_attribute(key.split('-')[1]) for x in elementos])\n",
    "\n",
    "\n",
    "    teatro_nacional_info = teatro_nacional['url-href'].apply(lambda f: tnacional_info(driver, f))\n",
    "    teatro_nacional[\"titulo-func\"] = teatro_nacional_info.apply(lambda f: f[0])\n",
    "    teatro_nacional[\"lugar-func\"] = teatro_nacional_info.apply(lambda f: f[1])\n",
    "    teatro_nacional[\"fecha-func\"] = teatro_nacional_info.apply(lambda f: f[2])\n",
    "    teatro_nacional[\"preciomin-func\"] = teatro_nacional_info.apply(lambda f: f[3])\n",
    "    teatro_nacional[\"desc-func\"] = teatro_nacional_info.apply(lambda f: f[4])\n",
    "\n",
    "    teatro_nacional = teatro_nacional.explode('fecha-func',ignore_index=True)\n",
    "\n",
    "    driver.quit()\n",
    "\n",
    "    teatro_nacional.columns = teatro_nacional.columns.str.split(\"-\").str.get(0)\n",
    "    \n",
    "    return teatro_nacional"
   ]
  },
  {
   "cell_type": "markdown",
   "metadata": {},
   "source": [
    "**La Maldita Vanidad**\n",
    "\n",
    "https://www.lamalditavanidadteatro.com"
   ]
  },
  {
   "cell_type": "code",
   "execution_count": 11,
   "metadata": {},
   "outputs": [],
   "source": [
    "def webscraping_malditavanidad():\n",
    "    driver = webdriver.Safari()\n",
    "    driver.get(\"https://www.lamalditavanidadteatro.com/\")\n",
    "    iframe = driver.find_element('xpath','//body/div/div/div[3]/div/main/div/div/div/div[2]/div/div/div/wix-iframe/iframe')\n",
    "    driver.switch_to.frame(iframe)\n",
    "    driver.implicitly_wait(10)\n",
    "\n",
    "    items = driver.find_elements('xpath','//div[@class=\"item\"][position() < last()]//h3')\n",
    "\n",
    "    n = len(items)\n",
    "\n",
    "    malditavanidad = pd.DataFrame(columns=['titulo','lugar','url','fecha','preciomin','preciomax','duracion','tipo','desc'])\n",
    "\n",
    "    for i in range(n):\n",
    "        # Cada vez que entra, accede al iFrame de obras\n",
    "        driver.get(\"https://www.lamalditavanidadteatro.com/\")\n",
    "        iframe = driver.find_element('xpath','//body/div/div/div[3]/div/main/div/div/div/div[2]/div/div/div/wix-iframe/iframe')\n",
    "        driver.switch_to.frame(iframe)\n",
    "        driver.implicitly_wait(10)\n",
    "        \n",
    "        # Hace click en cierta obra y guarda la URL\n",
    "        item = driver.find_elements('xpath','//div[@class=\"item\"][position() < last()]//h3')[i]\n",
    "        driver.execute_script(\"arguments[0].click();\",item)\n",
    "        url = driver.current_url\n",
    "\n",
    "        # Una vez en la URL busca y pega todos los elementos en p\n",
    "        driver.get(url)\n",
    "        titulo = driver.find_elements('xpath','//h2')[1].text.title()\n",
    "        texto = pd.Series(driver.find_elements('xpath','//div[@data-testid=\"mesh-container-content\"]//div//p')).apply(lambda p: p.text)\n",
    "        texto = \" \".join(texto)\n",
    "\n",
    "        # Busca las partes del texto que tienen la palabra FECHA\n",
    "        fecha = re.findall('FECHA.*?:(.*?):',texto)[0]\n",
    "        # Busca las partes del texto que empiezan por la palabra HORA\n",
    "        hora = re.findall('HORA.*?:(.*?):',texto)\n",
    "\n",
    "        # Busca la parte del texto que empieza por la palabra DURACION\n",
    "        duracion_raw = re.findall('DURACIÓN.*?:(.*?):',texto)[0].strip()\n",
    "        # Busca si tiene hora\n",
    "        duracion_hr = re.findall('(\\d+) h',duracion_raw)\n",
    "        # Busca si tiene minuto\n",
    "        duracion_min = re.findall('(\\d+) m',duracion_raw)\n",
    "\n",
    "\n",
    "        \n",
    "        # Calcula la duración\n",
    "        duracion = 0\n",
    "        if len(duracion_hr)>0:\n",
    "            duracion += int(duracion_hr[0])\n",
    "        \n",
    "        if len(duracion_min)>0:\n",
    "            duracion += int(duracion_min[0])/60\n",
    "\n",
    "        # Busca strings de la forma (1-2 digitos) de al? (1-2 digitos) de (mes)\n",
    "        # 6 de octubre al 9 de octubre\n",
    "        # Del 13 de octubre al 23 de octubre de 2022\n",
    "        #Del 27 de octubre  20 de noviembre\n",
    "        rango_fecha = re.findall('(\\d{1,2}) de (\\D+) [al ]*(\\d{1,2}) de (\\w+)',fecha.replace('\\xa0',''))\n",
    "        \n",
    "        if len(rango_fecha)>0: # Si hay un rango de fechas \n",
    "            rango_fecha = rango_fecha[0]\n",
    "            start_date_raw = str(rango_fecha[0])+\" \"+rango_fecha[1].split(\" al\")[0]+\" \"+str(datetime.datetime.today().year)\n",
    "            end_date_raw = str(rango_fecha[2])+\" \"+rango_fecha[3]+\" \"+str(datetime.datetime.today().year)\n",
    "\n",
    "\n",
    "            start_date = datetime.datetime.strptime(start_date_raw,'%d %B %Y').strftime('%Y-%m-%d')\n",
    "            end_date = datetime.datetime.strptime(end_date_raw,'%d %B %Y').strftime('%Y-%m-%d')\n",
    "\n",
    "            # Por ahora asumiremos que para todas las obras se repiten Jueves,Viernes,Sabado 8 pm y 6:30pm Domingo\n",
    "            fechas1 = pd.Series(pd.date_range(start=start_date,end=end_date))\n",
    "            fechas1 = fechas1[fechas1.apply(lambda f: (f.weekday()==3) | (f.weekday()==4) | (f.weekday()==5))] # Deja solo los jueves, viernes o sabados\n",
    "            fechas1 = fechas1.apply(lambda f: f.replace(hour=20,minute=0)) # Hora son las 8pm\n",
    "            fechas1 = fechas1.apply(lambda f: f.strftime('%Y-%m-%d %H:%M'))\n",
    "\n",
    "            fechas2 = pd.Series(pd.date_range(start=start_date,end=end_date))\n",
    "            fechas2 = fechas2[fechas2.apply(lambda f: f.weekday()==6)] # Deja solo los domingos\n",
    "            fechas2 = fechas2.apply(lambda f: f.replace(hour=18,minute=30)) # Hora son las 6:30pm\n",
    "            fechas2 = fechas2.apply(lambda f: f.strftime('%Y-%m-%d %H:%M'))\n",
    "\n",
    "            fechas_total = pd.concat([fechas1,fechas2]).to_list()\n",
    "        else:#si la fecha es por 'y' como por ejemplo: Lunes 24 y martes 25 de Octubre de 2022\n",
    "            fechas = re.findall('(\\d{1,2}) y \\w* (\\d{1,2}) de (\\w+)',fecha)[0]\n",
    "            \n",
    "            date1_raw = fechas[0]+\" \"+fechas[2]+\" \"+str(datetime.datetime.today().year)\n",
    "            date2_raw = fechas[1]+\" \"+fechas[2]+\" \"+str(datetime.datetime.today().year)\n",
    "\n",
    "            date1 = datetime.datetime.strptime(date1_raw,'%d %B %Y').strftime('%Y-%m-%d')\n",
    "            date2 = datetime.datetime.strptime(date2_raw,'%d %B %Y').strftime('%Y-%m-%d')\n",
    "\n",
    "            # Asumimos que las horas son 8pm\n",
    "            if len(hora)==0:\n",
    "                date1=pd.Timestamp(date1).replace(hour=20,minute=0)\n",
    "                date2=pd.Timestamp(date2).replace(hour=20,minute=0)\n",
    "\n",
    "            fechas_total = [date1,date2]\n",
    "\n",
    "\n",
    "        # malditavanidad = pd.DataFrame(columns=['titulo','lugar','url','fechas','preciomin','preciomax','duración','tipo'])\n",
    "        genero = re.findall('GÉNERO.*?:(.*?):',texto)[0].strip().split('RESTRICCIÓN DE EDAD')[0].strip().replace('.','')\n",
    "        precio = int(re.findall('ENTRADAS.*?\\$(\\S*)',texto)[0].replace('.',''))\n",
    "        #Busca la sinopsis del texto\n",
    "        desc = \"\".join(re.findall('SINOPSIS.*?:(.+) EL GRUPO|SINOPSIS.*?:(.+) ¿QUÉ|SINOPSIS.*?:(.+)',texto)[0])\n",
    "\n",
    "        malditavanidad.loc[i] = [titulo,'La Maldita Vanidad',url,fechas_total,precio,np.nan,duracion,genero,desc]\n",
    "\n",
    "    malditavanidad = malditavanidad.explode(column='fecha',ignore_index=True).dropna(subset='fecha')\n",
    "\n",
    "    driver.quit()\n",
    "\n",
    "    return malditavanidad"
   ]
  },
  {
   "cell_type": "markdown",
   "metadata": {},
   "source": [
    "**Teatro La Candelaria**\n",
    "\n",
    "https://teatrolacandelaria.com/programacion/"
   ]
  },
  {
   "cell_type": "code",
   "execution_count": 12,
   "metadata": {},
   "outputs": [],
   "source": [
    "def tcandelaria_info(driver, url):\n",
    "    #print(url)\n",
    "    driver.get(url)\n",
    "\n",
    "    try:\n",
    "        precio_raw = driver.find_element('xpath','//dd[@class=\"mec-events-event-cost\"]').text.replace('.','')\n",
    "        precios = [int(x) for x in re.findall('(\\d+)',precio_raw)]\n",
    "        precio_min, precio_max = min(precios), max(precios)\n",
    "        if precio_min==precio_max:\n",
    "            precio_max = np.nan\n",
    "    except NoSuchElementException:\n",
    "        precio_min = np.nan\n",
    "        precio_max = np.nan\n",
    "    \n",
    "\n",
    "    hora_duration_raw = driver.find_element('xpath','//div[@class=\"mec-single-event-time\"]//dd//abbr').text\n",
    "    hora_raw = hora_duration_raw.split(' - ')[0]\n",
    "\n",
    "    try:\n",
    "        hora_fin =hora_duration_raw.split(' - ')[1]\n",
    "        duracion = datetime.datetime.strptime(hora_fin,'%I:%M %p')-datetime.datetime.strptime(hora_raw,'%I:%M %p')\n",
    "        duracion = duracion.seconds/3600\n",
    "    except:\n",
    "        duracion = np.nan\n",
    "\n",
    "\n",
    "    n = len(driver.find_elements('xpath','//div[@class=\"mec-ticket-available-spots \"]//span[@class=\"mec-event-ticket-name\"]'))\n",
    "    fechas = []\n",
    "\n",
    "    for i in range(n):\n",
    "        try:\n",
    "            fecha_raw = driver.find_elements('xpath','//div[@class=\"mec-ticket-available-spots \"]//span[@class=\"mec-event-ticket-name\"]')[i].text.lower()\n",
    "            fecha_grupo = re.findall('(\\d{1,2}) de (\\w+)',fecha_raw)[0]\n",
    "            dtfrm = fecha_grupo[0]+\" \"+fecha_grupo[1]+\" 2022 \"+hora_raw\n",
    "            fecha = datetime.datetime.strptime(dtfrm,'%d %B %Y %I:%M %p').strftime('%Y-%m-%d %H:%M')\n",
    "        except: # Coger siguiente y luego restarle una\n",
    "            fecha_raw = driver.find_elements('xpath','//div[@class=\"mec-ticket-available-spots \"]//span[@class=\"mec-event-ticket-name\"]')[i+1].text.lower()\n",
    "            fecha_grupo = re.findall('(\\d{1,2}) de (\\w+)',fecha_raw)[0]\n",
    "            anterior = int(fecha_grupo[0])-1\n",
    "            dtfrm = str(anterior)+\" \"+fecha_grupo[1]+\" 2022 \"+hora_raw\n",
    "            fecha = datetime.datetime.strptime(dtfrm,'%d %B %Y %I:%M %p').strftime('%Y-%m-%d %H:%M')\n",
    "        fechas.append(fecha)\n",
    "\n",
    "    desc = driver.find_element('xpath','//div[@class=\"wpb_wrapper\"]').text\n",
    "\n",
    "    return precio_min, precio_max, duracion, fechas, desc"
   ]
  },
  {
   "cell_type": "code",
   "execution_count": 13,
   "metadata": {},
   "outputs": [],
   "source": [
    "def webscraping_teatrocandelaria():\n",
    "    driver = webdriver.Safari()\n",
    "    driver.get(\"https://teatrolacandelaria.com/programacion/\")\n",
    "\n",
    "    caracteristicas = {'titulo-text':'//a[@class=\"mec-color-hover\"]',\\\n",
    "    'url-href':'//a[@class=\"mec-color-hover\"]'}\n",
    "\n",
    "    teatro_candelaria = pd.DataFrame()\n",
    "    for key in caracteristicas.keys():\n",
    "        elementos = driver.find_elements('xpath',caracteristicas[key])\n",
    "        if key.split('-')[1]=='text':\n",
    "            teatro_candelaria[key] = pd.Series([x.text.strip().title() for x in elementos])\n",
    "        else:\n",
    "            teatro_candelaria[key] = pd.Series([x.get_attribute(key.split('-')[1]) for x in elementos])\n",
    "\n",
    "    #print(teatro_candelaria)\n",
    "    candelaria_info = teatro_candelaria['url-href'].apply(lambda u: tcandelaria_info(driver,u))\n",
    "    teatro_candelaria['preciomin-func'] = candelaria_info.apply(lambda f: f[0])\n",
    "    teatro_candelaria['preciomax-func'] = candelaria_info.apply(lambda f: f[1])\n",
    "    teatro_candelaria['duracion-func'] = candelaria_info.apply(lambda f: f[2])\n",
    "    teatro_candelaria['fecha-func'] = candelaria_info.apply(lambda f: f[3])\n",
    "    teatro_candelaria['desc-func'] = candelaria_info.apply(lambda f: f[4])\n",
    "    teatro_candelaria = teatro_candelaria.explode('fecha-func',ignore_index=True)\n",
    "    teatro_candelaria['lugar-func'] = 'Teatro La Candelaria'\n",
    "\n",
    "    driver.quit()\n",
    "\n",
    "    teatro_candelaria.columns = teatro_candelaria.columns.str.split(\"-\").str.get(0)\n",
    "\n",
    "    return teatro_candelaria\n",
    "\n"
   ]
  },
  {
   "cell_type": "markdown",
   "metadata": {},
   "source": [
    "**TuBoleta (deprecated)**\n",
    "\n",
    "https://www.tuboleta.com/eventos/EWvmehRexc8Spkf2vD09GJJgWATkRBUSHOfa56P3GkVPy2evQF1q5e82SPPnucQhDnWECkber20UKvj-+1ovjw=="
   ]
  },
  {
   "cell_type": "code",
   "execution_count": 14,
   "metadata": {},
   "outputs": [],
   "source": [
    "def tuboleta_info(driver, url): #Deprecated\n",
    "    driver.get(url)\n",
    "\n",
    "    if \"selection\" in url:\n",
    "        driver.implicitly_wait(20)\n",
    "\n",
    "        try:\n",
    "            # Evento unico (Ej: Sala Gaitán)\n",
    "            \n",
    "            \n",
    "            try:\n",
    "                dia = re.findall('(\\d{1,2} \\S+ \\d{4})',driver.find_element('xpath','//span[@class=\"unique\"]//span[@class=\"day\"]').text.strip())[0]\n",
    "                hora = driver.find_element('xpath','//span[@class=\"unique\"]//span[@class=\"time\"]').text.strip()\n",
    "\n",
    "                fechas = [datetime.datetime.strptime(dia+\" \"+hora,'%d %B %Y %H:%M').strftime('%Y-%m-%d %H:%M')]\n",
    "                \n",
    "            except:\n",
    "                fechas = []\n",
    "\n",
    "                for k in driver.find_elements('xpath','//div[@class=\"date_time_venue\"]//p[@class=\"semantic-no-styling-no-display\"]'):\n",
    "                    dtrfm = re.findall('(\\d{1,2} \\D{3})',k.text)[0]+\" 2022 \"+re.findall('(\\d{1,2}:\\d{2})',k.text)[0]\n",
    "                    fechas.append(datetime.datetime.strptime(dtrfm,'%d %b %Y %H:%M').strftime('%Y-%m-%d %H:%M'))\n",
    "                \n",
    "\n",
    "\n",
    "            try:\n",
    "                preciomin = int(driver.find_elements('xpath','//td[@class=\"unit_price\"]//span[@class=\"amount amount_COP \"]')[-1].get_attribute(\"data-amount\"))/1000\n",
    "                preciomax = int(driver.find_elements('xpath','//td[@class=\"unit_price\"]//span[@class=\"amount amount_COP \"]')[0].get_attribute(\"data-amount\"))/1000\n",
    "            except:\n",
    "                preciomin = int(driver.find_element('xpath','//span[@class=\"from\"]//span[@class=\"amount amount_COP \"]').get_attribute(\"data-amount\"))/1000\n",
    "\n",
    "                if len(driver.find_elements('xpath','//span[@class=\"to\"]'))>1:\n",
    "                    preciomax = int(driver.find_element('xpath','//span[@class=\"to\"]//span[@class=\"amount amount_COP \"]').get_attribute(\"data-amount\"))/1000\n",
    "                else:\n",
    "                    preciomax=np.nan\n",
    "\n",
    "\n",
    "            if preciomin==preciomax:\n",
    "                preciomax=np.nan\n",
    "        except:\n",
    "            \n",
    "            fechas = []\n",
    "            preciomin = np.nan\n",
    "            preciomax = np.nan\n",
    "    else:\n",
    "        # Evento multiple tipo concierto (Ej: Chavela)\n",
    "        redirect = driver.find_element('xpath','//div[@class=\"px-2 text-center py-1 col col-12\"]//a').get_attribute('href')\n",
    "\n",
    "        fechas, preciomin, preciomax = tuboleta_info(driver, redirect)\n",
    "\n",
    "    return fechas, preciomin, preciomax\n",
    "            "
   ]
  },
  {
   "cell_type": "code",
   "execution_count": 15,
   "metadata": {},
   "outputs": [],
   "source": [
    "def webscraping_tuboleta(): #Deprecated\n",
    "    # Carga la página\n",
    "    driver = webdriver.Safari()\n",
    "    driver.get(\"https://www.tuboleta.com/eventos/EWvmehRexc8Spkf2vD09GJJgWATkRBUSHOfa56P3GkVPy2evQF1q5e82SPPnucQhDnWECkber20UKvj-+1ovjw==\")\n",
    "    driver.implicitly_wait(10)\n",
    "\n",
    "    # Carga más eventos repetidamente hasta que ya no hay más\n",
    "    n_old = 0\n",
    "    n_new = 1\n",
    "\n",
    "    while n_old<n_new:\n",
    "        boton = driver.find_element('xpath','//button[@class=\"ma-2 white--text v-btn v-btn--depressed v-btn--flat v-btn--outlined theme--light v-size--large\"]')\n",
    "        driver.execute_script(\"arguments[0].click();\",boton) \n",
    "        driver.implicitly_wait(10)\n",
    "        n_old = len(driver.find_elements('xpath','//h3[@class=\"text-center px-3 py-3\"]'))\n",
    "\n",
    "        boton = driver.find_element('xpath','//button[@class=\"ma-2 white--text v-btn v-btn--depressed v-btn--flat v-btn--outlined theme--light v-size--large\"]')\n",
    "        driver.execute_script(\"arguments[0].click();\",boton) \n",
    "        driver.implicitly_wait(10)\n",
    "        n_new = len(driver.find_elements('xpath','//h3[@class=\"text-center px-3 py-3\"]'))\n",
    "\n",
    "    caracteristicas = {'titulo-text':'//h3[@class=\"text-center px-3 py-3\"]','lugar-text':'//div[@class=\"title-place pb-2\"]',\\\n",
    "    'url-href':'//div[@class=\"row px-3\"]//div[@class=\"col col-8\"]//div//a'}\n",
    "\n",
    "    tuboleta = pd.DataFrame()\n",
    "    for key in caracteristicas.keys():\n",
    "        elementos = driver.find_elements('xpath',caracteristicas[key])\n",
    "        if key.split('-')[1]=='text':\n",
    "            tuboleta[key] = pd.Series([x.text.strip() for x in elementos])\n",
    "        else:\n",
    "            tuboleta[key] = pd.Series([x.get_attribute(key.split('-')[1]) for x in elementos])\n",
    "\n",
    "    dejar_lugares = ['Sala Gaitán','Teatro Petra','Teatro Jorge Eliécer Gaitán','Teatro Cafam','Teatro Colón Bogotá']\n",
    "\n",
    "    tuboleta = tuboleta[tuboleta['lugar-text'].isin(dejar_lugares)].reset_index(drop=True)\n",
    "\n",
    "    tuboletainfo = tuboleta['url-href'].apply(lambda u: tuboleta_info(driver,u))\n",
    "\n",
    "    tuboleta['fecha-func'] = tuboletainfo.apply(lambda t: t[0])\n",
    "    tuboleta['preciomin-func'] = tuboletainfo.apply(lambda t: t[1])\n",
    "    tuboleta['preciomax-func'] = tuboletainfo.apply(lambda t: t[2])\n",
    "    tuboleta['titulo'] = tuboleta['titulo'].apply(lambda s: s.split(' - ')[0].capitalize())\n",
    "\n",
    "    driver.quit()\n",
    "\n",
    "    tuboleta.columns = tuboleta.columns.str.split(\"-\").str.get(0)\n",
    "\n",
    "    tuboleta = tuboleta.explode(column='fecha',ignore_index=True).dropna(subset='fecha')\n",
    "\n",
    "    \n",
    "    return tuboleta"
   ]
  },
  {
   "cell_type": "code",
   "execution_count": 16,
   "metadata": {},
   "outputs": [],
   "source": [
    "def tuboleta_programacion_info(driver, url):\n",
    "    driver.get(url)\n",
    "    \n",
    "    unicafecha = \"unique\" in driver.find_element('xpath','//p[@class=\"semantic-no-styling-no-display date\"]//span').get_attribute('class')\n",
    "\n",
    "    desc = driver.find_element('xpath','//div[@class=\"description\"]').text.strip()\n",
    "    if not unicafecha: # Varias fechas\n",
    "        # Caso Múltiples Fechas\n",
    "        fechas = []\n",
    "\n",
    "        for k in driver.find_elements('xpath','//div[@class=\"date_time_venue\"]//p[@class=\"semantic-no-styling-no-display\"]'):\n",
    "            dtrfm = re.findall('(\\d{1,2} \\D{3})',k.text)[0]+\" 2022 \"+re.findall('(\\d{1,2}:\\d{2})',k.text)[0]\n",
    "            fechas.append(datetime.datetime.strptime(dtrfm,'%d %b %Y %H:%M').strftime('%Y-%m-%d %H:%M'))\n",
    "\n",
    "        \n",
    "\n",
    "        #dt1 = datetime.datetime.now()\n",
    "        #lista_precios = driver.find_elements('xpath','//td[@class=\"unit_price\"]//span[@class=\"amount amount_COP \"]')\n",
    "\n",
    "        preciomin = int(driver.find_element('xpath','//span[@class=\"from\"]//span[@class=\"amount amount_COP \"]').get_attribute(\"data-amount\"))/1000\n",
    "    \n",
    "        if len(driver.find_elements('xpath','//span[@class=\"to\"]'))>1:\n",
    "            preciomax = int(driver.find_element('xpath','//span[@class=\"to\"]//span[@class=\"amount amount_COP \"]').get_attribute(\"data-amount\"))/1000\n",
    "        else:\n",
    "            preciomax=np.nan\n",
    "        #dt2 = datetime.datetime.now()\n",
    "        \n",
    "        #print(\"Metodo1\",dt2-dt1)\n",
    "        #if len(lista_precios)>0:\n",
    "        #    preciomin = int(lista_precios[-1].get_attribute(\"data-amount\"))/1000\n",
    "        #    preciomax = int(lista_precios[0].get_attribute(\"data-amount\"))/1000\n",
    "        #else:\n",
    "        #    preciomin = int(driver.find_element('xpath','//span[@class=\"from\"]//span[@class=\"amount amount_COP \"]').get_attribute(\"data-amount\"))/1000\n",
    "    \n",
    "        #    if len(driver.find_elements('xpath','//span[@class=\"to\"]'))>1:\n",
    "        #        preciomax = int(driver.find_element('xpath','//span[@class=\"to\"]//span[@class=\"amount amount_COP \"]').get_attribute(\"data-amount\"))/1000\n",
    "        #    else:\n",
    "        #        preciomax=np.nan\n",
    "            \n",
    "    \n",
    "\n",
    "\n",
    "        if preciomin==preciomax:\n",
    "            preciomax=np.nan\n",
    "\n",
    "       \n",
    "    else:\n",
    "        # Caso Única Fecha\n",
    "\n",
    "        \n",
    "        hora = driver.find_element('xpath','//span[@class=\"time\"]').text.strip()\n",
    "\n",
    "        fecha_raw = driver.find_element('xpath','//span[@class=\"day\"]').text.strip()\n",
    "        fecha_grupo = re.findall('(\\d{1,2}) (\\w+) (\\d{4})',fecha_raw)[0]\n",
    "\n",
    "        dtrfm = fecha_grupo[0]+\" \"+fecha_grupo[1]+\" \"+fecha_grupo[2]+\" \"+hora\n",
    "        fechas = [datetime.datetime.strptime(dtrfm,'%d %B %Y %H:%M').strftime('%Y-%m-%d %H:%M')]\n",
    "\n",
    "        dt1 = datetime.datetime.now()\n",
    "        \n",
    "        \n",
    "        if len(driver.find_elements('xpath','//li[@class=\"content_title seat_auto\"]//a'))>0:\n",
    "            driver.get(driver.find_elements('xpath','//li[@class=\"content_title seat_auto\"]//a')[0].get_attribute('href'))\n",
    "            driver.implicitly_wait(50)\n",
    "        \n",
    "        try:\n",
    "            preciomin = int(driver.find_elements('xpath','//td[@class=\"unit_price\"]//span[@class=\"amount amount_COP \"]')[-1].get_attribute('data-amount'))/1000\n",
    "            preciomax = int(driver.find_elements('xpath','//td[@class=\"unit_price\"]//span[@class=\"amount amount_COP \"]')[0].get_attribute('data-amount'))/1000\n",
    "\n",
    "            if preciomax==preciomin:\n",
    "                preciomax=np.nan\n",
    "        except:\n",
    "            preciomin = np.nan\n",
    "            preciomax = np.nan\n",
    "        \n",
    "        dt2 = datetime.datetime.now()\n",
    "        print(url)\n",
    "        print(dt2-dt1)\n",
    "\n",
    "    \n",
    "    return fechas, preciomin, preciomax\n",
    "    "
   ]
  },
  {
   "cell_type": "markdown",
   "metadata": {},
   "source": [
    "**IDARTES (TuBoleta)**\n",
    "\n",
    "https://www.tuboleta.com/images/Eventos/IDARTES/jorge-eliecer.html"
   ]
  },
  {
   "cell_type": "code",
   "execution_count": 17,
   "metadata": {},
   "outputs": [],
   "source": [
    "def webscraping_idartes():\n",
    "    driver = webdriver.Safari()\n",
    "\n",
    "    teatros_idartes = {\"Teatro El Ensueño\":\"https://www.tuboleta.com/images/Eventos/IDARTES/ensueno.html\",\\\n",
    "    \"Teatro Jorge Eliecer Gaitán\":\"https://www.tuboleta.com/images/Eventos/IDARTES/jorge-eliecer.html\",\\\n",
    "        \"Teatro Jorge Eliecer Gaitán - Sala Gaitán\":\"https://www.tuboleta.com/images/Eventos/IDARTES/sala-gaitan.html\"}\n",
    "\n",
    "    idartes = pd.DataFrame()\n",
    "    for teatro in teatros_idartes:\n",
    "        url_teatro = teatros_idartes[teatro]\n",
    "        driver.get(url_teatro)\n",
    "        driver.implicitly_wait(30)\n",
    "        caracteristicas = {'titulo-text':'//a[starts-with(@class,\"sc-\")]',\\\n",
    "            'url-href':'//a[starts-with(@class,\"sc-\")]'}\n",
    "\n",
    "        temp = pd.DataFrame()\n",
    "        for key in caracteristicas.keys():\n",
    "            elementos = driver.find_elements('xpath',caracteristicas[key])\n",
    "            if key.split('-')[1]=='text':\n",
    "                temp[key] = pd.Series([x.text.strip().title() for x in elementos])\n",
    "            else:\n",
    "                temp[key] = pd.Series([x.get_attribute(key.split('-')[1]) for x in elementos])\n",
    "\n",
    "        temp = temp[temp['titulo-text']!=\"Comprar\"]\n",
    "        temp['url-href'] = temp['url-href'].apply(lambda u: u+\"&lang=es\")\n",
    "        extrainfo = temp['url-href'].apply(lambda u: tuboleta_programacion_info(driver,u))\n",
    "        temp['fecha-func'] = extrainfo.apply(lambda f: f[0])\n",
    "        temp['preciomin-func'] = extrainfo.apply(lambda f: f[1])\n",
    "        temp['preciomax-func'] = extrainfo.apply(lambda f: f[2])\n",
    "        temp['lugar-given'] = teatro\n",
    "        idartes = pd.concat([idartes,temp],ignore_index=True)\n",
    "\n",
    "    idartes = idartes.explode('fecha-func',ignore_index=True)\n",
    "\n",
    "    driver.quit()\n",
    "\n",
    "    idartes.columns = idartes.columns.str.split(\"-\").str.get(0)\n",
    "    \n",
    "    return idartes    "
   ]
  },
  {
   "cell_type": "markdown",
   "metadata": {},
   "source": [
    "**Teatro Colón (TuBoleta)**\n",
    "\n",
    "https://www.tuboleta.com/images/Eventos/Teatro_Colon/index.html"
   ]
  },
  {
   "cell_type": "code",
   "execution_count": 18,
   "metadata": {},
   "outputs": [],
   "source": [
    "def webscraping_colon():\n",
    "    driver = webdriver.Safari()\n",
    "    driver.get(\"https://www.tuboleta.com/images/Eventos/Teatro_Colon/index.html\")\n",
    "    driver.implicitly_wait(800)\n",
    "    tipos = []\n",
    "\n",
    "    tipos_raw = driver.find_elements('xpath','//div[contains(@class,\"stx-Section\")]//h2[starts-with(@class,\"stx-SectionHeading\")]')\n",
    "    \n",
    "    for t in tipos_raw:\n",
    "        xpath = '//div[contains(@class,\"'+t.get_attribute('class').split(' sc-')[0].split('SectionHeading-')[-1]+'\")]//div//div//div//div//div//a'\n",
    "        n = len(driver.find_elements('xpath',xpath))\n",
    "        tipos.extend([t.text.title().strip()]*int(n/2))\n",
    "        \n",
    "    xpath = '//div[contains(@class,\"stx-SectionHeading stx-SectionHeading\")]//div//div//div//div//div//a'\n",
    "\n",
    "    caracteristicas = {'titulo-text':'//div[contains(@class,\"stx-ProductList-EVENTS\")]//div//div//div//div//div//div//a',\\\n",
    "        'url-href':'//div[contains(@class,\"stx-ProductList-EVENTS\")]//div//div//div//div//div//div//a'}\n",
    "\n",
    "    colon = pd.DataFrame()\n",
    "    for key in caracteristicas.keys():\n",
    "        elementos = driver.find_elements('xpath',caracteristicas[key])\n",
    "        if key.split('-')[1]=='text':\n",
    "            colon[key] = pd.Series([x.text.strip().title() for x in elementos])\n",
    "        else:\n",
    "            colon[key] = pd.Series([x.get_attribute(key.split('-')[1]) for x in elementos])\n",
    "    \n",
    "    #colon['tipo-given'] = t.text.strip().title()\n",
    "    colon = colon[colon['titulo-text']!=\"Comprar\"]\n",
    "    colon['url-href'] = colon['url-href'].apply(lambda u: u+\"&lang=es\")\n",
    "    \n",
    "    extrainfo = colon['url-href'].apply(lambda u: tuboleta_programacion_info(driver,u))\n",
    "    colon['fecha-func'] = extrainfo.apply(lambda f: f[0])\n",
    "    colon['preciomin-func'] = extrainfo.apply(lambda f: f[1])\n",
    "    colon['preciomax-func'] = extrainfo.apply(lambda f: f[2])\n",
    "\n",
    "    colon['tipo-given'] = tipos\n",
    "    colon.loc[:,'lugar-given'] = 'Teatro Colón'\n",
    "\n",
    "    driver.quit()\n",
    "    colon = colon.explode('fecha-func',ignore_index=True)\n",
    "    colon.columns = colon.columns.str.split(\"-\").str.get(0)\n",
    "\n",
    "    return colon"
   ]
  },
  {
   "cell_type": "markdown",
   "metadata": {},
   "source": [
    "**Teatro Libre**\n",
    "\n",
    "https://teatrolibre.com/programacion/\n",
    "\n",
    "La página tiene un error porque tiene infinitas entradas de la obra Yo Salvaje!, cuando la arreglen se debe hacer que cargue primero todos los \"Ver más\""
   ]
  },
  {
   "cell_type": "code",
   "execution_count": 19,
   "metadata": {},
   "outputs": [],
   "source": [
    "def tlibre_info(driver, url):\n",
    "    driver.get(url)\n",
    "\n",
    "    elementos = driver.find_elements('xpath','//div[@class=\"mec-event-info-desktop mec-event-meta mec-color-before mec-frontbox\"]//div//i')\n",
    "\n",
    "    if len(elementos)>6: # Si hay casilla de precio\n",
    "        precio_raw = driver.find_element('xpath','//div//div[@class=\"mec-event-cost\"]//dl//dd').text\n",
    "        \n",
    "        precio = precio_raw.replace(',','').split('COP')[-1].strip()\n",
    "        \n",
    "        precio = int(precio)\n",
    "    else:\n",
    "        precio = np.nan\n",
    "\n",
    "    desc = driver.find_element('xpath','//div[@class=\"wpb_wrapper\"]').text.strip()\n",
    "        \n",
    "    return precio, desc"
   ]
  },
  {
   "cell_type": "code",
   "execution_count": 20,
   "metadata": {},
   "outputs": [],
   "source": [
    "def webscraping_teatrolibre():\n",
    "    driver = webdriver.Safari()\n",
    "\n",
    "    driver.get(\"https://teatrolibre.com/programacion/\")\n",
    "    driver.implicitly_wait(50)\n",
    "\n",
    "    caracteristicas = {'titulo-text':'//article//div//div//div//h3//a',\\\n",
    "    'url-href':'//article//div//div//div//h3//a',\\\n",
    "        'fecha-text':'//article//div//div//div//div[@class=\"mec-date-details\"]//span//span',\\\n",
    "            'hora-text':'//article//div//div//div//div[@class=\"mec-time-details\"]//span',\\\n",
    "                'lugar-text':'//article//div//div//div//div[@class=\"mec-venue-details\"]/span'}\n",
    "\n",
    "    teatro_libre = pd.DataFrame()\n",
    "    for key in caracteristicas.keys():\n",
    "        elementos = driver.find_elements('xpath',caracteristicas[key])\n",
    "        if key.split('-')[1]=='text':\n",
    "            teatro_libre[key] = pd.Series([x.text.title().strip() for x in elementos])\n",
    "        else:\n",
    "            teatro_libre[key] = pd.Series([x.get_attribute(key.split('-')[1]) for x in elementos])\n",
    "\n",
    "    teatro_libre['fecha-func'] = teatro_libre.apply(lambda f: datetime.datetime.strptime(f['fecha-text']+' 2022 '+f['hora-text'],'%d %b %Y %I:%M %p').strftime('%Y-%m-%d %H:%M'),axis=1)\n",
    "    teatro_libre = teatro_libre.drop(columns=['fecha-text','hora-text'])\n",
    "    extrainfo = teatro_libre['url-href'].apply(lambda u: tlibre_info(driver,u))\n",
    "    teatro_libre['preciomin-func'] = extrainfo.apply(lambda f: f[0])\n",
    "    teatro_libre['desc-func'] = extrainfo.apply(lambda f: f[1])\n",
    "\n",
    "    driver.quit()\n",
    "    teatro_libre.columns = teatro_libre.columns.str.split(\"-\").str.get(0)\n",
    "\n",
    "    return teatro_libre"
   ]
  },
  {
   "cell_type": "markdown",
   "metadata": {},
   "source": [
    "**Teatro Colsubsidio**\n",
    "\n",
    "https://www.tuboleta.com/images/Eventos/Teatro_Colsubsidio/index.html"
   ]
  },
  {
   "cell_type": "markdown",
   "metadata": {},
   "source": [
    "**Teatro Cafam**\n",
    "\n",
    "???"
   ]
  },
  {
   "cell_type": "markdown",
   "metadata": {},
   "source": [
    "**Teatro Petra**\n",
    "\n",
    "???"
   ]
  },
  {
   "cell_type": "markdown",
   "metadata": {},
   "source": [
    "# Correr WebScrapings"
   ]
  },
  {
   "cell_type": "code",
   "execution_count": 21,
   "metadata": {},
   "outputs": [],
   "source": [
    "calendario = pd.DataFrame()"
   ]
  },
  {
   "cell_type": "code",
   "execution_count": 22,
   "metadata": {},
   "outputs": [
    {
     "name": "stdout",
     "output_type": "stream",
     "text": [
      "Se añadieron 9 fechas del Teatro Mayor. Se demoró 423.956 ms.\n"
     ]
    }
   ],
   "source": [
    "dt1 = datetime.datetime.now()\n",
    "teatro_mayor1 = webscraping_teatromayor('2022')\n",
    "dt2 = datetime.datetime.now()\n",
    "print(\"Se añadieron {} fechas del Teatro Mayor. Se demoró {} ms.\".format(teatro_mayor1.shape[0],(dt2-dt1).microseconds/1000))"
   ]
  },
  {
   "cell_type": "code",
   "execution_count": 23,
   "metadata": {},
   "outputs": [],
   "source": [
    "calendario = pd.concat([calendario,teatro_mayor1])"
   ]
  },
  {
   "cell_type": "code",
   "execution_count": 24,
   "metadata": {},
   "outputs": [
    {
     "name": "stdout",
     "output_type": "stream",
     "text": [
      "Se añadieron 19 fechas de Atrapalo. Se demoró 869.873 ms.\n"
     ]
    }
   ],
   "source": [
    "dt2 = datetime.datetime.now()\n",
    "atrapalo = webscraping_atrapalo()\n",
    "dt1 = datetime.datetime.now()\n",
    "print(\"Se añadieron {} fechas de Atrapalo. Se demoró {} ms.\".format(atrapalo.shape[0],(dt1-dt2).microseconds/1000))"
   ]
  },
  {
   "cell_type": "code",
   "execution_count": 25,
   "metadata": {},
   "outputs": [],
   "source": [
    "calendario = pd.concat([calendario,atrapalo])"
   ]
  },
  {
   "cell_type": "code",
   "execution_count": 26,
   "metadata": {},
   "outputs": [
    {
     "name": "stdout",
     "output_type": "stream",
     "text": [
      "Se añadieron 145 fechas del Teatro Mayor. Se demoró 30.264 ms.\n"
     ]
    }
   ],
   "source": [
    "dt1 = datetime.datetime.now()\n",
    "teatro_mayor2 = webscraping_teatromayor('2023')\n",
    "dt2 = datetime.datetime.now()\n",
    "print(\"Se añadieron {} fechas del Teatro Mayor. Se demoró {} ms.\".format(teatro_mayor2.shape[0],(dt2-dt1).microseconds/1000))"
   ]
  },
  {
   "cell_type": "code",
   "execution_count": 27,
   "metadata": {},
   "outputs": [],
   "source": [
    "calendario = pd.concat([calendario,teatro_mayor2])"
   ]
  },
  {
   "cell_type": "code",
   "execution_count": 28,
   "metadata": {},
   "outputs": [
    {
     "name": "stdout",
     "output_type": "stream",
     "text": [
      "Se añadieron 45 fechas de Teatro Nacional. Se demoró 277.494 ms.\n"
     ]
    }
   ],
   "source": [
    "dt1 = datetime.datetime.now()\n",
    "teatro_nacional = webscraping_teatronacional()\n",
    "dt2 = datetime.datetime.now()\n",
    "print(\"Se añadieron {} fechas de Teatro Nacional. Se demoró {} ms.\".format(teatro_nacional.shape[0],(dt2-dt1).microseconds/1000))"
   ]
  },
  {
   "cell_type": "code",
   "execution_count": 29,
   "metadata": {},
   "outputs": [],
   "source": [
    "calendario = pd.concat([calendario,teatro_nacional])"
   ]
  },
  {
   "cell_type": "code",
   "execution_count": 30,
   "metadata": {},
   "outputs": [
    {
     "name": "stdout",
     "output_type": "stream",
     "text": [
      "Se añadieron 31 fechas de La Maldita Vanidad. Se demoró 65.835 ms.\n"
     ]
    }
   ],
   "source": [
    "dt2 = datetime.datetime.now()\n",
    "maldita_vanidad = webscraping_malditavanidad()\n",
    "dt1 = datetime.datetime.now()\n",
    "print(\"Se añadieron {} fechas de La Maldita Vanidad. Se demoró {} ms.\".format(maldita_vanidad.shape[0],(dt1-dt2).microseconds/1000))"
   ]
  },
  {
   "cell_type": "code",
   "execution_count": 31,
   "metadata": {},
   "outputs": [],
   "source": [
    "calendario = pd.concat([calendario,maldita_vanidad])"
   ]
  },
  {
   "cell_type": "code",
   "execution_count": 32,
   "metadata": {},
   "outputs": [
    {
     "name": "stdout",
     "output_type": "stream",
     "text": [
      "Se añadieron 8 fechas de La Calendaria. Se demoró 117.691 ms.\n"
     ]
    }
   ],
   "source": [
    "dt2 = datetime.datetime.now()\n",
    "lacandelaria = webscraping_teatrocandelaria()\n",
    "dt1 = datetime.datetime.now()\n",
    "print(\"Se añadieron {} fechas de La Calendaria. Se demoró {} ms.\".format(lacandelaria.shape[0],(dt1-dt2).microseconds/1000))"
   ]
  },
  {
   "cell_type": "code",
   "execution_count": 33,
   "metadata": {},
   "outputs": [],
   "source": [
    "calendario = pd.concat([calendario,lacandelaria])"
   ]
  },
  {
   "cell_type": "code",
   "execution_count": 34,
   "metadata": {},
   "outputs": [
    {
     "name": "stdout",
     "output_type": "stream",
     "text": [
      "Se añadieron 9 fechas de Teatro Libre. Se demoró 434.137 ms.\n"
     ]
    }
   ],
   "source": [
    "dt2 = datetime.datetime.now()\n",
    "teatro_libre = webscraping_teatrolibre()\n",
    "dt1 = datetime.datetime.now()\n",
    "print(\"Se añadieron {} fechas de Teatro Libre. Se demoró {} ms.\".format(teatro_libre.shape[0],(dt2-dt1).microseconds/1000))"
   ]
  },
  {
   "cell_type": "code",
   "execution_count": 35,
   "metadata": {},
   "outputs": [],
   "source": [
    "calendario = pd.concat([calendario,teatro_libre])"
   ]
  },
  {
   "cell_type": "code",
   "execution_count": 36,
   "metadata": {},
   "outputs": [
    {
     "name": "stdout",
     "output_type": "stream",
     "text": [
      "https://teatrocolon.checkout.tuboleta.com/selection/event/date?productId=10228740672532&gtmStepTracking=true&lang=es\n",
      "0:00:01.028154\n",
      "Se añadieron 3 fechas de Teatro Colón - TuBoleta. Se demoró 374.984 ms.\n"
     ]
    }
   ],
   "source": [
    "dt1 = datetime.datetime.now()\n",
    "teatro_colon = webscraping_colon()\n",
    "dt2 = datetime.datetime.now()\n",
    "print(\"Se añadieron {} fechas de Teatro Colón - TuBoleta. Se demoró {} ms.\".format(teatro_colon.shape[0],(dt1-dt2).microseconds/1000))"
   ]
  },
  {
   "cell_type": "code",
   "execution_count": 37,
   "metadata": {},
   "outputs": [],
   "source": [
    "calendario = pd.concat([calendario,teatro_colon])"
   ]
  },
  {
   "cell_type": "code",
   "execution_count": 38,
   "metadata": {},
   "outputs": [
    {
     "name": "stdout",
     "output_type": "stream",
     "text": [
      "https://idartes.checkout.tuboleta.com/selection/event/seat?perfId=10228791214140&ot=0&lang=es\n",
      "0:00:01.543489\n",
      "https://idartes.checkout.tuboleta.com/selection/event/seat?perfId=10228800137403&ot=0&lang=es\n",
      "0:00:00.626435\n",
      "https://idartes.checkout.tuboleta.com/selection/event/date?productId=10228821600391&lang=es\n",
      "0:00:00.633690\n",
      "https://idartes.checkout.tuboleta.com/selection/event/date?productId=10228763653298&lang=es\n",
      "0:00:30.057224\n",
      "https://idartes.checkout.tuboleta.com/selection/event/date?productId=10228793436338&lang=es\n",
      "0:00:30.028658\n",
      "https://idartes.checkout.tuboleta.com/selection/event/date?productId=10228793436340&lang=es\n",
      "0:00:01.532253\n",
      "https://idartes.checkout.tuboleta.com/selection/event/date?productId=10228821600390&lang=es\n",
      "0:00:50.018587\n",
      "https://idartes.checkout.tuboleta.com/selection/event/date?productId=10228793436341&lang=es\n",
      "0:00:30.022911\n",
      "https://idartes.checkout.tuboleta.com/selection/event/date?productId=10228793436342&lang=es\n",
      "0:00:30.026936\n",
      "https://idartes.checkout.tuboleta.com/selection/event/date?productId=10228805136590&lang=es\n",
      "0:00:30.068840\n",
      "https://idartes.checkout.tuboleta.com/selection/event/date?productId=10228805136591&lang=es\n",
      "0:00:30.047760\n",
      "https://idartes.checkout.tuboleta.com/selection/event/date?productId=10228805136592&lang=es\n",
      "0:00:30.009214\n",
      "https://idartes.checkout.tuboleta.com/selection/event/date?productId=10228818352735&lang=es\n",
      "0:00:30.032562\n",
      "Se añadieron 15 fechas de IDARTES - TuBoleta. Se demoró 515.967 ms.\n"
     ]
    }
   ],
   "source": [
    "dt2 = datetime.datetime.now()\n",
    "idartes = webscraping_idartes()\n",
    "dt1 = datetime.datetime.now()\n",
    "print(\"Se añadieron {} fechas de IDARTES - TuBoleta. Se demoró {} ms.\".format(idartes.shape[0],(dt2-dt1).microseconds/1000))"
   ]
  },
  {
   "cell_type": "code",
   "execution_count": 39,
   "metadata": {},
   "outputs": [],
   "source": [
    "calendario = pd.concat([calendario,idartes])"
   ]
  },
  {
   "cell_type": "code",
   "execution_count": null,
   "metadata": {},
   "outputs": [],
   "source": [
    "#calendario = pd.concat([teatro_mayor1,teatro_mayor2,atrapalo,teatro_nacional,maldita_vanidad,lacandelaria,idartes,teatro_colon,teatro_libre],ignore_index=True)"
   ]
  },
  {
   "cell_type": "code",
   "execution_count": 41,
   "metadata": {},
   "outputs": [],
   "source": [
    "calendario = calendario.reset_index(drop=True)"
   ]
  },
  {
   "cell_type": "code",
   "execution_count": 42,
   "metadata": {},
   "outputs": [],
   "source": [
    "calendario.to_csv(\"../Guia-Teatral-Bogota/data/guia_teatral({}).csv\".format(hoy),sep=',',index=False)"
   ]
  },
  {
   "cell_type": "markdown",
   "metadata": {},
   "source": [
    "## Festivales Ocasionales"
   ]
  },
  {
   "cell_type": "code",
   "execution_count": null,
   "metadata": {},
   "outputs": [],
   "source": [
    "def fest_circo():\n",
    "    driver = webdriver.Safari()\n",
    "    driver.get(\"https://bogotateatralycircense.gov.co/festival-teatro-y-circo/programacion\")\n",
    "\n",
    "    caracteristicas = {'fecha-text':'//div[@class=\"evdate mt-3 d-flex justify-content-center\"]',\\\n",
    "    'titulo-text':'//div[@class=\"evtitleobra\"]',\n",
    "    'lugar-text':'//div[@class=\"evlug\"]',\n",
    "    'url-href':'//div[@class=\"no-link\"]//a','desc-text':'//div[@class=\"evinfo col-12 p-2\"]'}\n",
    "\n",
    "    fest_circo = pd.DataFrame()\n",
    "    for key in caracteristicas.keys():\n",
    "        elementos = driver.find_elements('xpath',caracteristicas[key])\n",
    "        if key.split('-')[1]=='text':\n",
    "            fest_circo[key] = pd.Series([x.text.strip() for x in elementos])\n",
    "        else:\n",
    "            fest_circo[key] = pd.Series([x.get_attribute(key.split('-')[1]) for x in elementos])\n",
    "\n",
    "    fest_circo.columns = fest_circo.columns.str.split(\"-\").str.get(0)\n",
    "\n",
    "    fest_circo['fecha'] = fest_circo['fecha'].apply(lambda texto: datetime.datetime.strptime(texto.replace('\\n','').replace('.','').replace('-','2022').replace(' de',''),'%d %B %Y %I:%M%p').strftime('%Y-%m-%d %H:%M'))\n",
    "    fest_circo['tipo'] = 'Festival'\n",
    "    driver.quit()\n",
    "    return fest_circo"
   ]
  },
  {
   "cell_type": "code",
   "execution_count": null,
   "metadata": {},
   "outputs": [],
   "source": [
    "def fest_opera():\n",
    "    driver = webdriver.Safari()\n",
    "    driver.get(\"https://filarmonicabogota.gov.co/opera-al-parque-2022-programacion/\")\n",
    "    caracteristicas = {'titulo-text':'//a[@class=\"mec-color-hover\"]',\\\n",
    "    'lugar-text':'//div[@class=\"mec-event-loc-place\"]',\n",
    "    'fecha-text':'//div[@class=\"event-grid-t2-head mec-bg-color clearfix\"]',\n",
    "    'url-href':'//a[@class=\"mec-color-hover\"]'}\n",
    "\n",
    "    fest_opera = pd.DataFrame()\n",
    "    for key in caracteristicas.keys():\n",
    "        elementos = driver.find_elements('xpath',caracteristicas[key])\n",
    "        if key.split('-')[1]=='text':\n",
    "            fest_opera[key] = pd.Series([x.text.strip() for x in elementos])\n",
    "        else:\n",
    "            fest_opera[key] = pd.Series([x.get_attribute(key.split('-')[1]) for x in elementos])\n",
    "\n",
    "    fest_opera.columns = fest_opera.columns.str.split(\"-\").str.get(0)\n",
    "    fest_opera['fecha'] = fest_opera['fecha'].apply(lambda prueba: datetime.datetime.strptime(prueba.replace('\\n                   ' ,'').split('                                                     ')[0].replace('                    ',' 2022').split(' -')[0],'%d %B %Y %I:%M %p').strftime('%Y-%m-%d %H:%M'))\n",
    "    fest_opera['tipo'] = 'Festival'\n",
    "    fest_opera['preciomin'] = 0\n",
    "\n",
    "    driver.quit()\n",
    "\n",
    "    return fest_opera\n",
    "    "
   ]
  },
  {
   "cell_type": "code",
   "execution_count": null,
   "metadata": {},
   "outputs": [],
   "source": [
    "calendario = pd.concat([calendario,fest_opera,fest_circo],ignore_index=True)"
   ]
  },
  {
   "cell_type": "code",
   "execution_count": null,
   "metadata": {},
   "outputs": [
    {
     "data": {
      "text/html": [
       "<div>\n",
       "<style scoped>\n",
       "    .dataframe tbody tr th:only-of-type {\n",
       "        vertical-align: middle;\n",
       "    }\n",
       "\n",
       "    .dataframe tbody tr th {\n",
       "        vertical-align: top;\n",
       "    }\n",
       "\n",
       "    .dataframe thead th {\n",
       "        text-align: right;\n",
       "    }\n",
       "</style>\n",
       "<table border=\"1\" class=\"dataframe\">\n",
       "  <thead>\n",
       "    <tr style=\"text-align: right;\">\n",
       "      <th></th>\n",
       "      <th>tipo</th>\n",
       "      <th>titulo</th>\n",
       "      <th>fecha</th>\n",
       "      <th>url</th>\n",
       "      <th>duracion</th>\n",
       "      <th>preciomin</th>\n",
       "      <th>preciomax</th>\n",
       "      <th>lugar</th>\n",
       "      <th>desc</th>\n",
       "    </tr>\n",
       "  </thead>\n",
       "  <tbody>\n",
       "    <tr>\n",
       "      <th>0</th>\n",
       "      <td>Música</td>\n",
       "      <td>‘El elíxir de amor’. Ópera de Gaetano Donizett...</td>\n",
       "      <td>2022-10-26 20:00</td>\n",
       "      <td>https://www.teatromayor.org/es/evento/musica/e...</td>\n",
       "      <td>2.5</td>\n",
       "      <td>150000.0</td>\n",
       "      <td>190000.0</td>\n",
       "      <td>Teatro Mayor Julio Mario Santo Domingo</td>\n",
       "      <td>Producción del Teatro Mayor Julio Mario Santo ...</td>\n",
       "    </tr>\n",
       "    <tr>\n",
       "      <th>1</th>\n",
       "      <td>Teatro</td>\n",
       "      <td>Malafama Teatro - 'House of Bernarda' - Direct...</td>\n",
       "      <td>2022-10-28 20:00</td>\n",
       "      <td>https://www.teatromayor.org/es/evento/teatro/t...</td>\n",
       "      <td>1.5</td>\n",
       "      <td>30000.0</td>\n",
       "      <td>40000.0</td>\n",
       "      <td>Teatro Estudio</td>\n",
       "      <td>Tras la muerte de su segundo esposo, Bernarda ...</td>\n",
       "    </tr>\n",
       "    <tr>\n",
       "      <th>2</th>\n",
       "      <td>Música</td>\n",
       "      <td>‘El elíxir de amor’. Ópera de Gaetano Donizett...</td>\n",
       "      <td>2022-10-28 20:00</td>\n",
       "      <td>https://www.teatromayor.org/es/evento/musica/e...</td>\n",
       "      <td>2.5</td>\n",
       "      <td>150000.0</td>\n",
       "      <td>190000.0</td>\n",
       "      <td>Teatro Mayor Julio Mario Santo Domingo</td>\n",
       "      <td>Producción del Teatro Mayor Julio Mario Santo ...</td>\n",
       "    </tr>\n",
       "    <tr>\n",
       "      <th>3</th>\n",
       "      <td>Teatro</td>\n",
       "      <td>Malafama Teatro - 'House of Bernarda' - Direct...</td>\n",
       "      <td>2022-10-29 20:00</td>\n",
       "      <td>https://www.teatromayor.org/es/evento/teatro/t...</td>\n",
       "      <td>1.5</td>\n",
       "      <td>30000.0</td>\n",
       "      <td>40000.0</td>\n",
       "      <td>Teatro Estudio</td>\n",
       "      <td>Tras la muerte de su segundo esposo, Bernarda ...</td>\n",
       "    </tr>\n",
       "    <tr>\n",
       "      <th>4</th>\n",
       "      <td>Música</td>\n",
       "      <td>‘El elíxir de amor’. Ópera de Gaetano Donizett...</td>\n",
       "      <td>2022-10-30 17:00</td>\n",
       "      <td>https://www.teatromayor.org/es/evento/musica/e...</td>\n",
       "      <td>2.5</td>\n",
       "      <td>150000.0</td>\n",
       "      <td>190000.0</td>\n",
       "      <td>Teatro Mayor Julio Mario Santo Domingo</td>\n",
       "      <td>Producción del Teatro Mayor Julio Mario Santo ...</td>\n",
       "    </tr>\n",
       "    <tr>\n",
       "      <th>...</th>\n",
       "      <td>...</td>\n",
       "      <td>...</td>\n",
       "      <td>...</td>\n",
       "      <td>...</td>\n",
       "      <td>...</td>\n",
       "      <td>...</td>\n",
       "      <td>...</td>\n",
       "      <td>...</td>\n",
       "      <td>...</td>\n",
       "    </tr>\n",
       "    <tr>\n",
       "      <th>314</th>\n",
       "      <td>Festival</td>\n",
       "      <td>Perdón me tengo que ir</td>\n",
       "      <td>2022-10-28 19:00</td>\n",
       "      <td>https://bogotateatralycircense.gov.co/festival...</td>\n",
       "      <td>NaN</td>\n",
       "      <td>0.0</td>\n",
       "      <td>NaN</td>\n",
       "      <td>Auditorio Biblioteca Pública Gabriel García Má...</td>\n",
       "      <td>Perdón me tengo que ir\\n      Grupo: Misi - Un...</td>\n",
       "    </tr>\n",
       "    <tr>\n",
       "      <th>315</th>\n",
       "      <td>Festival</td>\n",
       "      <td>Anónimas</td>\n",
       "      <td>2022-10-28 19:00</td>\n",
       "      <td>https://bogotateatralycircense.gov.co/festival...</td>\n",
       "      <td>NaN</td>\n",
       "      <td>0.0</td>\n",
       "      <td>NaN</td>\n",
       "      <td>Teatro Quimera Calle 70A 19-40</td>\n",
       "      <td>Anónimas \\n      Grupo: El escenario \\n      D...</td>\n",
       "    </tr>\n",
       "    <tr>\n",
       "      <th>316</th>\n",
       "      <td>Festival</td>\n",
       "      <td>Colcha de retratos</td>\n",
       "      <td>2022-10-28 19:30</td>\n",
       "      <td>https://bogotateatralycircense.gov.co/festival...</td>\n",
       "      <td>NaN</td>\n",
       "      <td>0.0</td>\n",
       "      <td>NaN</td>\n",
       "      <td>Casa Teatrova Calle 24 No. 4 -16</td>\n",
       "      <td>Colcha de retratos \\n      Grupo: Asociación C...</td>\n",
       "    </tr>\n",
       "    <tr>\n",
       "      <th>317</th>\n",
       "      <td>Festival</td>\n",
       "      <td>Evento especial: House of Bernarda</td>\n",
       "      <td>2022-10-28 20:00</td>\n",
       "      <td>https://bogotateatralycircense.gov.co/festival...</td>\n",
       "      <td>NaN</td>\n",
       "      <td>0.0</td>\n",
       "      <td>NaN</td>\n",
       "      <td>Teatro estudio - Teatro Mayor Julio Mario Sant...</td>\n",
       "      <td>Evento especial: House of Bernarda\\n      Grup...</td>\n",
       "    </tr>\n",
       "    <tr>\n",
       "      <th>318</th>\n",
       "      <td>Festival</td>\n",
       "      <td>Evento especial: Sola, solita ¡Soledad!</td>\n",
       "      <td>2022-10-29 19:00</td>\n",
       "      <td>https://bogotateatralycircense.gov.co/festival...</td>\n",
       "      <td>NaN</td>\n",
       "      <td>0.0</td>\n",
       "      <td>NaN</td>\n",
       "      <td>Teatro El Ensueño - Transversal 70 D No. 60 - 90</td>\n",
       "      <td>Evento especial: Sola, solita ¡Soledad!\\n     ...</td>\n",
       "    </tr>\n",
       "  </tbody>\n",
       "</table>\n",
       "<p>319 rows × 9 columns</p>\n",
       "</div>"
      ],
      "text/plain": [
       "         tipo                                             titulo  \\\n",
       "0      Música  ‘El elíxir de amor’. Ópera de Gaetano Donizett...   \n",
       "1      Teatro  Malafama Teatro - 'House of Bernarda' - Direct...   \n",
       "2      Música  ‘El elíxir de amor’. Ópera de Gaetano Donizett...   \n",
       "3      Teatro  Malafama Teatro - 'House of Bernarda' - Direct...   \n",
       "4      Música  ‘El elíxir de amor’. Ópera de Gaetano Donizett...   \n",
       "..        ...                                                ...   \n",
       "314  Festival                             Perdón me tengo que ir   \n",
       "315  Festival                                           Anónimas   \n",
       "316  Festival                                 Colcha de retratos   \n",
       "317  Festival                 Evento especial: House of Bernarda   \n",
       "318  Festival            Evento especial: Sola, solita ¡Soledad!   \n",
       "\n",
       "                fecha                                                url  \\\n",
       "0    2022-10-26 20:00  https://www.teatromayor.org/es/evento/musica/e...   \n",
       "1    2022-10-28 20:00  https://www.teatromayor.org/es/evento/teatro/t...   \n",
       "2    2022-10-28 20:00  https://www.teatromayor.org/es/evento/musica/e...   \n",
       "3    2022-10-29 20:00  https://www.teatromayor.org/es/evento/teatro/t...   \n",
       "4    2022-10-30 17:00  https://www.teatromayor.org/es/evento/musica/e...   \n",
       "..                ...                                                ...   \n",
       "314  2022-10-28 19:00  https://bogotateatralycircense.gov.co/festival...   \n",
       "315  2022-10-28 19:00  https://bogotateatralycircense.gov.co/festival...   \n",
       "316  2022-10-28 19:30  https://bogotateatralycircense.gov.co/festival...   \n",
       "317  2022-10-28 20:00  https://bogotateatralycircense.gov.co/festival...   \n",
       "318  2022-10-29 19:00  https://bogotateatralycircense.gov.co/festival...   \n",
       "\n",
       "     duracion  preciomin  preciomax  \\\n",
       "0         2.5   150000.0   190000.0   \n",
       "1         1.5    30000.0    40000.0   \n",
       "2         2.5   150000.0   190000.0   \n",
       "3         1.5    30000.0    40000.0   \n",
       "4         2.5   150000.0   190000.0   \n",
       "..        ...        ...        ...   \n",
       "314       NaN        0.0        NaN   \n",
       "315       NaN        0.0        NaN   \n",
       "316       NaN        0.0        NaN   \n",
       "317       NaN        0.0        NaN   \n",
       "318       NaN        0.0        NaN   \n",
       "\n",
       "                                                 lugar  \\\n",
       "0               Teatro Mayor Julio Mario Santo Domingo   \n",
       "1                                       Teatro Estudio   \n",
       "2               Teatro Mayor Julio Mario Santo Domingo   \n",
       "3                                       Teatro Estudio   \n",
       "4               Teatro Mayor Julio Mario Santo Domingo   \n",
       "..                                                 ...   \n",
       "314  Auditorio Biblioteca Pública Gabriel García Má...   \n",
       "315                     Teatro Quimera Calle 70A 19-40   \n",
       "316                   Casa Teatrova Calle 24 No. 4 -16   \n",
       "317  Teatro estudio - Teatro Mayor Julio Mario Sant...   \n",
       "318   Teatro El Ensueño - Transversal 70 D No. 60 - 90   \n",
       "\n",
       "                                                  desc  \n",
       "0    Producción del Teatro Mayor Julio Mario Santo ...  \n",
       "1    Tras la muerte de su segundo esposo, Bernarda ...  \n",
       "2    Producción del Teatro Mayor Julio Mario Santo ...  \n",
       "3    Tras la muerte de su segundo esposo, Bernarda ...  \n",
       "4    Producción del Teatro Mayor Julio Mario Santo ...  \n",
       "..                                                 ...  \n",
       "314  Perdón me tengo que ir\\n      Grupo: Misi - Un...  \n",
       "315  Anónimas \\n      Grupo: El escenario \\n      D...  \n",
       "316  Colcha de retratos \\n      Grupo: Asociación C...  \n",
       "317  Evento especial: House of Bernarda\\n      Grup...  \n",
       "318  Evento especial: Sola, solita ¡Soledad!\\n     ...  \n",
       "\n",
       "[319 rows x 9 columns]"
      ]
     },
     "execution_count": 168,
     "metadata": {},
     "output_type": "execute_result"
    }
   ],
   "source": [
    "calendario"
   ]
  },
  {
   "cell_type": "code",
   "execution_count": null,
   "metadata": {},
   "outputs": [],
   "source": [
    "calendario.to_csv(\"../Guia-Teatral-Bogota/data/guia_teatral({}).csv\".format(hoy),sep=',',index=False)"
   ]
  },
  {
   "cell_type": "code",
   "execution_count": null,
   "metadata": {},
   "outputs": [],
   "source": []
  }
 ],
 "metadata": {
  "kernelspec": {
   "display_name": "Python 3.9.12 ('base')",
   "language": "python",
   "name": "python3"
  },
  "language_info": {
   "codemirror_mode": {
    "name": "ipython",
    "version": 3
   },
   "file_extension": ".py",
   "mimetype": "text/x-python",
   "name": "python",
   "nbconvert_exporter": "python",
   "pygments_lexer": "ipython3",
   "version": "3.9.12"
  },
  "orig_nbformat": 4,
  "vscode": {
   "interpreter": {
    "hash": "603c7126a362df54dbdb63464ffa171b698e5719d09ebf425de5c7b485ef52fd"
   }
  }
 },
 "nbformat": 4,
 "nbformat_minor": 2
}
